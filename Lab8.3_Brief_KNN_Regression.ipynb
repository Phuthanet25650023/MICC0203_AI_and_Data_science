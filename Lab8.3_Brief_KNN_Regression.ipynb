{
 "cells": [
  {
   "cell_type": "markdown",
   "metadata": {},
   "source": [
    "# 0. Import Library"
   ]
  },
  {
   "cell_type": "code",
   "execution_count": null,
   "metadata": {},
   "outputs": [],
   "source": [
    "import matplotlib.pyplot as plt\n",
    "%matplotlib inline\n",
    "import numpy as np\n",
    "import pandas as pd\n",
    "import seaborn as sns\n",
    "\n",
    "import scipy.stats"
   ]
  },
  {
   "cell_type": "markdown",
   "metadata": {},
   "source": [
    "![](https://onlinelibrary.wiley.com/cms/asset/ea1d3bd8-afd7-4914-b645-74d424b6690d/advs3654-fig-0002-m.jpg)"
   ]
  },
  {
   "cell_type": "markdown",
   "metadata": {},
   "source": [
    "# 1. Input Data"
   ]
  },
  {
   "cell_type": "code",
   "execution_count": null,
   "metadata": {
    "scrolled": true
   },
   "outputs": [],
   "source": [
    "df = pd.read_csv('advertising.csv')"
   ]
  },
  {
   "cell_type": "markdown",
   "metadata": {},
   "source": [
    "# 2. Data Preprocessing"
   ]
  },
  {
   "cell_type": "markdown",
   "metadata": {},
   "source": [
    "## 2.1 Exploratory Data Analysis (EDA)"
   ]
  },
  {
   "cell_type": "code",
   "execution_count": null,
   "metadata": {
    "scrolled": true
   },
   "outputs": [],
   "source": [
    "df.head()"
   ]
  },
  {
   "cell_type": "code",
   "execution_count": null,
   "metadata": {},
   "outputs": [],
   "source": [
    "df.shape"
   ]
  },
  {
   "cell_type": "code",
   "execution_count": null,
   "metadata": {
    "scrolled": true
   },
   "outputs": [],
   "source": [
    "df.describe()"
   ]
  },
  {
   "cell_type": "code",
   "execution_count": null,
   "metadata": {
    "scrolled": true
   },
   "outputs": [],
   "source": [
    "df.dtypes"
   ]
  },
  {
   "cell_type": "markdown",
   "metadata": {},
   "source": [
    "## 2.2 Data Cleaning"
   ]
  },
  {
   "cell_type": "markdown",
   "metadata": {},
   "source": [
    "### - Missing Value"
   ]
  },
  {
   "cell_type": "code",
   "execution_count": null,
   "metadata": {
    "scrolled": false
   },
   "outputs": [],
   "source": [
    "df.isnull().sum()"
   ]
  },
  {
   "cell_type": "markdown",
   "metadata": {},
   "source": [
    "### - Inconsistent Data"
   ]
  },
  {
   "cell_type": "code",
   "execution_count": null,
   "metadata": {
    "scrolled": true
   },
   "outputs": [],
   "source": [
    "df.dtypes"
   ]
  },
  {
   "cell_type": "markdown",
   "metadata": {},
   "source": [
    "### - Outliers"
   ]
  },
  {
   "cell_type": "markdown",
   "metadata": {},
   "source": [
    "#### TV"
   ]
  },
  {
   "cell_type": "code",
   "execution_count": null,
   "metadata": {
    "scrolled": true
   },
   "outputs": [],
   "source": [
    "#Round1\n",
    "q3 = df.TV.quantile(.75)\n",
    "q1 = df.TV.quantile(.25)\n",
    "iqr = q3 - q1\n",
    "upper = q3 + (1.5 * iqr)\n",
    "lower = q1 - (1.5 * iqr)\n",
    "print('Lower: {:.2f} \\nUpper: {:.2f}' . format(lower, upper))\n",
    "\n",
    "plt.axvline(x=q1, c='b', linestyle='--', linewidth=1) #\n",
    "plt.axvline(x=q3, c='g', linestyle='--', linewidth=1) #\n",
    "plt.axvline(x=lower, c='r', linestyle='--') #\n",
    "plt.axvline(x=upper, c='r', linestyle='--') #\n",
    "sns.boxplot(x=df.TV, width=0.4, palette='Set2')\n",
    "plt.show()"
   ]
  },
  {
   "cell_type": "markdown",
   "metadata": {},
   "source": [
    "#### Radio"
   ]
  },
  {
   "cell_type": "code",
   "execution_count": null,
   "metadata": {
    "scrolled": true
   },
   "outputs": [],
   "source": [
    "#Round1\n",
    "q3 = df.Radio.quantile(.75)\n",
    "q1 = df.Radio.quantile(.25)\n",
    "iqr = q3 - q1\n",
    "upper = q3 + (1.5 * iqr)\n",
    "lower = q1 - (1.5 * iqr)\n",
    "print('Lower: {:.2f} \\nUpper: {:.2f}' . format(lower, upper))\n",
    "\n",
    "plt.axvline(x=q1, c='b', linestyle='--', linewidth=1) #\n",
    "plt.axvline(x=q3, c='g', linestyle='--', linewidth=1) #\n",
    "plt.axvline(x=lower, c='r', linestyle='--') #\n",
    "plt.axvline(x=upper, c='r', linestyle='--') #\n",
    "sns.boxplot(x=df.Radio, width=0.4, palette='Set2')\n",
    "plt.show()"
   ]
  },
  {
   "cell_type": "markdown",
   "metadata": {},
   "source": [
    "#### Newspaper"
   ]
  },
  {
   "cell_type": "code",
   "execution_count": null,
   "metadata": {
    "scrolled": true
   },
   "outputs": [],
   "source": [
    "#Round1\n",
    "q3 = df.Newspaper.quantile(.75)\n",
    "q1 = df.Newspaper.quantile(.25)\n",
    "iqr = q3 - q1\n",
    "upper = q3 + (1.5 * iqr)\n",
    "lower = q1 - (1.5 * iqr)\n",
    "print('Lower: {:.2f} \\nUpper: {:.2f}' . format(lower, upper))\n",
    "\n",
    "plt.axvline(x=q1, c='b', linestyle='--', linewidth=1) #\n",
    "plt.axvline(x=q3, c='g', linestyle='--', linewidth=1) #\n",
    "plt.axvline(x=lower, c='r', linestyle='--') #\n",
    "plt.axvline(x=upper, c='r', linestyle='--') #\n",
    "sns.boxplot(x=df.Newspaper, width=0.4, palette='Set2')\n",
    "plt.show()"
   ]
  },
  {
   "cell_type": "code",
   "execution_count": null,
   "metadata": {},
   "outputs": [],
   "source": [
    "filter_upper = df.Newspaper > upper\n",
    "df.drop(df[filter_upper].index, inplace=True)"
   ]
  },
  {
   "cell_type": "code",
   "execution_count": null,
   "metadata": {},
   "outputs": [],
   "source": [
    "#Round2\n",
    "q3 = df.Newspaper.quantile(.75)\n",
    "q1 = df.Newspaper.quantile(.25)\n",
    "iqr = q3 - q1\n",
    "upper = q3 + (1.5 * iqr)\n",
    "lower = q1 - (1.5 * iqr)\n",
    "print('Lower: {:.2f} \\nUpper: {:.2f}' . format(lower, upper))\n",
    "\n",
    "plt.axvline(x=q1, c='b', linestyle='--', linewidth=1) #\n",
    "plt.axvline(x=q3, c='g', linestyle='--', linewidth=1) #\n",
    "plt.axvline(x=lower, c='r', linestyle='--') #\n",
    "plt.axvline(x=upper, c='r', linestyle='--') #\n",
    "sns.boxplot(x=df.Newspaper, width=0.4, palette='Set2')\n",
    "plt.show()"
   ]
  },
  {
   "cell_type": "markdown",
   "metadata": {},
   "source": [
    "#### Sales"
   ]
  },
  {
   "cell_type": "code",
   "execution_count": null,
   "metadata": {},
   "outputs": [],
   "source": [
    "#Round1\n",
    "q3 = df.Sales.quantile(.75)\n",
    "q1 = df.Sales.quantile(.25)\n",
    "iqr = q3 - q1\n",
    "upper = q3 + (1.5 * iqr)\n",
    "lower = q1 - (1.5 * iqr)\n",
    "print('Lower: {:.2f} \\nUpper: {:.2f}' . format(lower, upper))\n",
    "\n",
    "plt.axvline(x=q1, c='b', linestyle='--', linewidth=1) #\n",
    "plt.axvline(x=q3, c='g', linestyle='--', linewidth=1) #\n",
    "plt.axvline(x=lower, c='r', linestyle='--') #\n",
    "plt.axvline(x=upper, c='r', linestyle='--') #\n",
    "sns.boxplot(x=df.Sales, width=0.4, palette='Set2')\n",
    "plt.show()"
   ]
  },
  {
   "cell_type": "markdown",
   "metadata": {},
   "source": [
    "## 2.3 Data Transformation"
   ]
  },
  {
   "cell_type": "markdown",
   "metadata": {},
   "source": [
    "![](https://images.datacamp.com/image/upload/v1677149248/label_encoding_d4ae789503.png?updated_at=2023-02-23T10:47:28.618Z)"
   ]
  },
  {
   "cell_type": "code",
   "execution_count": null,
   "metadata": {},
   "outputs": [],
   "source": [
    "df.dtypes"
   ]
  },
  {
   "cell_type": "markdown",
   "metadata": {},
   "source": [
    "## [Optional] Export เป็นไฟล์เมื่อทำ Data Cleaning เสร็จแล้ว"
   ]
  },
  {
   "cell_type": "code",
   "execution_count": null,
   "metadata": {},
   "outputs": [],
   "source": [
    "df.to_csv('รหัส.csv',index=False)\n",
    "df.to_excel('รหัส.xlsx',index=False)"
   ]
  },
  {
   "cell_type": "markdown",
   "metadata": {},
   "source": [
    "## 2.4 ตรวจสอบค่าสหสัมพันธ์ของตัวแปร x, y"
   ]
  },
  {
   "cell_type": "code",
   "execution_count": null,
   "metadata": {
    "scrolled": true
   },
   "outputs": [],
   "source": [
    "df.corr()"
   ]
  },
  {
   "cell_type": "code",
   "execution_count": null,
   "metadata": {},
   "outputs": [],
   "source": [
    "plt.rcParams['figure.figsize'] = 10,7 \n",
    "sns.heatmap(df.corr(), annot=True);"
   ]
  },
  {
   "cell_type": "markdown",
   "metadata": {},
   "source": [
    "## 2.5 การกำหนด Feature / Target"
   ]
  },
  {
   "cell_type": "code",
   "execution_count": null,
   "metadata": {},
   "outputs": [],
   "source": [
    "DataMatrix = df.values\n",
    "DataMatrix.shape"
   ]
  },
  {
   "cell_type": "code",
   "execution_count": null,
   "metadata": {},
   "outputs": [],
   "source": [
    "feature_cols=['TV','Radio','Newspaper']\n",
    "X=df[feature_cols]\n",
    "Y=df.Sales"
   ]
  },
  {
   "cell_type": "markdown",
   "metadata": {},
   "source": [
    "## 2.6 Data Preparation (แบ่งข้อมูลสำหรับ Training / Testing)"
   ]
  },
  {
   "cell_type": "code",
   "execution_count": null,
   "metadata": {},
   "outputs": [],
   "source": [
    "from sklearn.model_selection import train_test_split\n",
    "X_Train, X_Test, Y_Train, Y_Test = train_test_split(X, Y, test_size=0.3, random_state=0)"
   ]
  },
  {
   "cell_type": "markdown",
   "metadata": {},
   "source": [
    "# 3. Modelling: k-Nearest Neighbors"
   ]
  },
  {
   "cell_type": "markdown",
   "metadata": {},
   "source": [
    "![](https://miro.medium.com/v2/resize:fit:1151/0*ItVKiyx2F3ZU8zV5)"
   ]
  },
  {
   "cell_type": "code",
   "execution_count": null,
   "metadata": {},
   "outputs": [],
   "source": [
    "from sklearn.neighbors import KNeighborsRegressor"
   ]
  },
  {
   "cell_type": "markdown",
   "metadata": {},
   "source": [
    "## 3.1 Training Data"
   ]
  },
  {
   "cell_type": "code",
   "execution_count": null,
   "metadata": {},
   "outputs": [],
   "source": [
    "model = KNeighborsRegressor(n_neighbors=3)"
   ]
  },
  {
   "cell_type": "code",
   "execution_count": null,
   "metadata": {},
   "outputs": [],
   "source": [
    "model.fit(X_Train, Y_Train)"
   ]
  },
  {
   "cell_type": "code",
   "execution_count": null,
   "metadata": {},
   "outputs": [],
   "source": [
    "model.score(X_Train, Y_Train)"
   ]
  },
  {
   "cell_type": "markdown",
   "metadata": {},
   "source": [
    "## 3.2 Predict Data"
   ]
  },
  {
   "cell_type": "code",
   "execution_count": null,
   "metadata": {},
   "outputs": [],
   "source": [
    "y_predict = model.predict(X_Test)"
   ]
  },
  {
   "cell_type": "markdown",
   "metadata": {},
   "source": [
    "# 4. Model Evaluation"
   ]
  },
  {
   "cell_type": "code",
   "execution_count": null,
   "metadata": {},
   "outputs": [],
   "source": [
    "from sklearn.metrics import mean_squared_error, mean_absolute_error, r2_score"
   ]
  },
  {
   "cell_type": "code",
   "execution_count": null,
   "metadata": {},
   "outputs": [],
   "source": [
    "print(\"r2 Score = \",r2_score(Y_Test, y_predict))\n",
    "print(\"MSE = \",mean_squared_error(Y_Test, y_predict))\n",
    "print(\"MAE = \",mean_absolute_error(Y_Test, y_predict))"
   ]
  },
  {
   "cell_type": "markdown",
   "metadata": {},
   "source": [
    "# [Optional] Save Machine Learning Models"
   ]
  },
  {
   "cell_type": "code",
   "execution_count": null,
   "metadata": {},
   "outputs": [],
   "source": [
    "import pickle\n",
    "filename = 'pickle_รหัสนศ.sav'\n",
    "pickle.dump(model, open(filename, 'wb'))"
   ]
  }
 ],
 "metadata": {
  "kernelspec": {
   "display_name": "Python 3 (ipykernel)",
   "language": "python",
   "name": "python3"
  },
  "language_info": {
   "codemirror_mode": {
    "name": "ipython",
    "version": 3
   },
   "file_extension": ".py",
   "mimetype": "text/x-python",
   "name": "python",
   "nbconvert_exporter": "python",
   "pygments_lexer": "ipython3",
   "version": "3.9.12"
  }
 },
 "nbformat": 4,
 "nbformat_minor": 2
}
