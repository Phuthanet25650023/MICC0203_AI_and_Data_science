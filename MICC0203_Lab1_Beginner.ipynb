{
 "cells": [
  {
   "cell_type": "code",
   "execution_count": null,
   "id": "ffbbba33",
   "metadata": {},
   "outputs": [],
   "source": [
    "x = 10\n",
    "print(x)"
   ]
  },
  {
   "cell_type": "code",
   "execution_count": null,
   "id": "1f239177",
   "metadata": {},
   "outputs": [],
   "source": [
    "y = 3.14\n",
    "print(y) "
   ]
  },
  {
   "cell_type": "code",
   "execution_count": null,
   "id": "5037f617",
   "metadata": {},
   "outputs": [],
   "source": [
    "a = 5\n",
    "b = 2\n",
    "sum = a + b\n",
    "print(sum) "
   ]
  },
  {
   "cell_type": "code",
   "execution_count": null,
   "id": "54cc939e",
   "metadata": {},
   "outputs": [],
   "source": [
    "c = 3.5\n",
    "d = 1.2\n",
    "product = c * d\n",
    "print(product)"
   ]
  },
  {
   "cell_type": "code",
   "execution_count": null,
   "id": "937ba17b",
   "metadata": {},
   "outputs": [],
   "source": [
    "x = 5\n",
    "print(x)  \n",
    "\n",
    "x = 7\n",
    "print(x)  "
   ]
  },
  {
   "cell_type": "code",
   "execution_count": null,
   "id": "d49894f8",
   "metadata": {},
   "outputs": [],
   "source": [
    "name = \"John\"\n",
    "greeting = \"Hello, \" + name\n",
    "print(greeting)"
   ]
  },
  {
   "cell_type": "code",
   "execution_count": null,
   "id": "16e778f6",
   "metadata": {},
   "outputs": [],
   "source": [
    "first_name = \"John\"\n",
    "last_name = \"Doe\"\n",
    "full_name = first_name + \" \" + last_name\n",
    "print(full_name) "
   ]
  },
  {
   "cell_type": "code",
   "execution_count": null,
   "id": "215427f1",
   "metadata": {},
   "outputs": [],
   "source": [
    "message = \"Hello, World!\"\n",
    "message = message.replace(\"World\", \"Python\")\n",
    "print(message)"
   ]
  },
  {
   "cell_type": "code",
   "execution_count": null,
   "id": "7e6898f8",
   "metadata": {},
   "outputs": [],
   "source": [
    "num = 42\n",
    "str_num = str(num)\n",
    "print(str_num)"
   ]
  },
  {
   "cell_type": "code",
   "execution_count": null,
   "id": "e5e1eea9",
   "metadata": {},
   "outputs": [],
   "source": [
    "str_num = \"3.14\"\n",
    "float_num = float(str_num)\n",
    "print(float_num)"
   ]
  },
  {
   "cell_type": "code",
   "execution_count": null,
   "id": "ef9c3ec9",
   "metadata": {},
   "outputs": [],
   "source": [
    "import math\n",
    "\n",
    "radius = 2.5\n",
    "area = math.pi * radius**2\n",
    "print(area)"
   ]
  },
  {
   "cell_type": "code",
   "execution_count": null,
   "id": "69cd9aae",
   "metadata": {},
   "outputs": [],
   "source": [
    "x = 5\n",
    "y = 10\n",
    "is_greater = x > y\n",
    "print(is_greater)"
   ]
  },
  {
   "cell_type": "code",
   "execution_count": null,
   "id": "223a69d8",
   "metadata": {},
   "outputs": [],
   "source": [
    "age = 25\n",
    "\n",
    "if age >= 18:\n",
    "    print(\"You are an adult.\")\n",
    "else:\n",
    "    print(\"You are a minor.\")"
   ]
  },
  {
   "cell_type": "code",
   "execution_count": null,
   "id": "a4c4997a",
   "metadata": {},
   "outputs": [],
   "source": [
    "for i in range(5):\n",
    "    print(i)"
   ]
  },
  {
   "cell_type": "code",
   "execution_count": null,
   "id": "6c35413e",
   "metadata": {},
   "outputs": [],
   "source": [
    "count = 0\n",
    "\n",
    "while count < 5:\n",
    "    print(count)\n",
    "    count += 1"
   ]
  },
  {
   "cell_type": "code",
   "execution_count": null,
   "id": "b2ad872e",
   "metadata": {},
   "outputs": [],
   "source": [
    "score = 75\n",
    "\n",
    "if score >= 80:\n",
    "    print(\"A\")\n",
    "elif score >= 70:\n",
    "    print(\"B\")\n",
    "elif score >= 60:\n",
    "    print(\"C\")\n",
    "else:\n",
    "    print(\"F\")"
   ]
  },
  {
   "cell_type": "code",
   "execution_count": null,
   "id": "b6b86d98",
   "metadata": {},
   "outputs": [],
   "source": [
    "for i in range(10):\n",
    "    if i == 5:\n",
    "        break\n",
    "    print(i)"
   ]
  },
  {
   "cell_type": "code",
   "execution_count": null,
   "id": "e0c4b698",
   "metadata": {},
   "outputs": [],
   "source": [
    "for i in range(10):\n",
    "    if i == 5:\n",
    "        continue\n",
    "    print(i)"
   ]
  },
  {
   "cell_type": "code",
   "execution_count": null,
   "id": "71c3053d",
   "metadata": {},
   "outputs": [],
   "source": [
    "name = input(\"Enter your name: \")\n",
    "print(\"Hello, \" + name)"
   ]
  },
  {
   "cell_type": "code",
   "execution_count": null,
   "id": "003c1084",
   "metadata": {},
   "outputs": [],
   "source": [
    "try:\n",
    "    # Code that may raise an exception\n",
    "    x = 10 / 0\n",
    "except ZeroDivisionError:\n",
    "    print(\"Error: Division by zero occurred.\")"
   ]
  },
  {
   "cell_type": "code",
   "execution_count": null,
   "id": "7621acb7",
   "metadata": {},
   "outputs": [],
   "source": [
    "try:\n",
    "    # Code that may raise exceptions\n",
    "    file = open(\"nonexistent.txt\")\n",
    "    x = 10 / 0\n",
    "except (FileNotFoundError, ZeroDivisionError):\n",
    "    print(\"Error: File not found or division by zero occurred.\")"
   ]
  },
  {
   "cell_type": "code",
   "execution_count": null,
   "id": "90469ebb",
   "metadata": {},
   "outputs": [],
   "source": [
    "try:\n",
    "    # Code that may raise an exception\n",
    "    x = 10 / 0\n",
    "except Exception as e:\n",
    "    print(\"An error occurred:\", str(e))"
   ]
  },
  {
   "cell_type": "code",
   "execution_count": null,
   "id": "ffabb59d",
   "metadata": {},
   "outputs": [],
   "source": [
    "try:\n",
    "    # Code that may raise an exception\n",
    "    file = open(\"nonexistent.txt\")\n",
    "except FileNotFoundError:\n",
    "    print(\"Error: File not found.\")\n",
    "finally:\n",
    "    # Code that will always execute, regardless of exceptions\n",
    "    print(\"Closing the file.\")\n",
    "    file.close()"
   ]
  },
  {
   "cell_type": "code",
   "execution_count": null,
   "id": "f8e18092",
   "metadata": {},
   "outputs": [],
   "source": [
    "def divide(a, b):\n",
    "    if b == 0:\n",
    "        raise ValueError(\"Division by zero is not allowed.\")\n",
    "    return a / b\n",
    "\n",
    "try:\n",
    "    result = divide(10, 0)\n",
    "except ValueError as e:\n",
    "    print(\"An error occurred:\", str(e))"
   ]
  },
  {
   "cell_type": "code",
   "execution_count": null,
   "id": "29cef8d3",
   "metadata": {},
   "outputs": [],
   "source": [
    "numbers = [1, 2, 3, 0, 4, 5]\n",
    "results = []\n",
    "\n",
    "for num in numbers:\n",
    "    try:\n",
    "        result = 10 / num\n",
    "        results.append(result)\n",
    "    except ZeroDivisionError:\n",
    "        print(\"Error: Division by zero occurred.\")\n",
    "        results.append(0)\n",
    "\n",
    "print(results)"
   ]
  },
  {
   "cell_type": "code",
   "execution_count": null,
   "id": "0dca7c4d",
   "metadata": {},
   "outputs": [],
   "source": [
    "try:\n",
    "    # Code that may raise an exception\n",
    "    file = open(\"data.txt\")\n",
    "except FileNotFoundError:\n",
    "    print(\"Error: File not found.\")\n",
    "else:\n",
    "    print(\"File opened successfully.\")\n",
    "    file.close()"
   ]
  },
  {
   "cell_type": "code",
   "execution_count": null,
   "id": "49e51d6c",
   "metadata": {},
   "outputs": [],
   "source": [
    "try:\n",
    "    # Code that may raise an exception\n",
    "    x = int(\"abc\")\n",
    "except ValueError:\n",
    "    print(\"Error: Invalid conversion to integer.\")\n",
    "except Exception as e:\n",
    "    print(\"An error occurred:\", str(e))"
   ]
  },
  {
   "cell_type": "code",
   "execution_count": null,
   "id": "c8ed7603",
   "metadata": {},
   "outputs": [],
   "source": [
    "try:\n",
    "    # Code that may raise an exception\n",
    "    try:\n",
    "        x = int(\"abc\")\n",
    "    except ValueError:\n",
    "        print(\"Error: Invalid conversion to integer.\")\n",
    "except Exception as e:\n",
    "    print(\"An error occurred:\", str(e))"
   ]
  },
  {
   "cell_type": "code",
   "execution_count": null,
   "id": "c77d492f",
   "metadata": {},
   "outputs": [],
   "source": [
    "try:\n",
    "    # Code that may raise an exception\n",
    "    try:\n",
    "        file = open(\"data.txt\")\n",
    "    except FileNotFoundError:\n",
    "        raise ValueError(\"File not found.\")\n",
    "    else:\n",
    "        print(\"File opened successfully.\")\n",
    "        file.close()\n",
    "except ValueError as ve:\n",
    "    print(\"An error occurred:\", str(ve))"
   ]
  },
  {
   "cell_type": "code",
   "execution_count": null,
   "id": "1cdc59e5",
   "metadata": {},
   "outputs": [],
   "source": [
    "# Example 1: Creating a file\n",
    "file = open(\"example.txt\", \"w\")  # Open file in write mode\n",
    "file.write(\"Hello, World!\")      # Write content to the file\n",
    "file.close()                     # Close the file"
   ]
  },
  {
   "cell_type": "code",
   "execution_count": null,
   "id": "485a4bd6",
   "metadata": {},
   "outputs": [],
   "source": [
    "# Example 2: Reading a file\n",
    "file = open(\"example.txt\", \"r\")  # Open file in read mode\n",
    "content = file.read()            # Read the entire content of the file\n",
    "print(content)                   # Print the content\n",
    "file.close()                     # Close the file"
   ]
  },
  {
   "cell_type": "code",
   "execution_count": null,
   "id": "3ee433cc",
   "metadata": {},
   "outputs": [],
   "source": [
    "# Example 3: Appending to a file\n",
    "file = open(\"example.txt\", \"a\")      # Open file in append mode\n",
    "file.write(\"This is an update!\")     # Append content to the file\n",
    "file.close()                         # Close the file"
   ]
  },
  {
   "cell_type": "code",
   "execution_count": null,
   "id": "0549aca1",
   "metadata": {},
   "outputs": [],
   "source": [
    "# Example 4: Reading a file line by line\n",
    "file = open(\"example.txt\", \"r\")      # Open file in read mode\n",
    "for line in file:                    # Iterate over each line in the file\n",
    "    print(line)                      # Print each line\n",
    "file.close()                         # Close the file"
   ]
  },
  {
   "cell_type": "code",
   "execution_count": null,
   "id": "a9fe0fe3",
   "metadata": {},
   "outputs": [],
   "source": [
    "# Example 5: Using 'with' statement (automatically closes the file)\n",
    "with open(\"example.txt\", \"r\") as file:  # Open file in read mode\n",
    "    content = file.read()                # Read the entire content of the file\n",
    "    print(content)                       # Print the content"
   ]
  },
  {
   "cell_type": "code",
   "execution_count": null,
   "id": "4eb9b3bb",
   "metadata": {},
   "outputs": [],
   "source": []
  }
 ],
 "metadata": {
  "kernelspec": {
   "display_name": "Python 3",
   "language": "python",
   "name": "python3"
  },
  "language_info": {
   "codemirror_mode": {
    "name": "ipython",
    "version": 3
   },
   "file_extension": ".py",
   "mimetype": "text/x-python",
   "name": "python",
   "nbconvert_exporter": "python",
   "pygments_lexer": "ipython3",
   "version": "3.8.8"
  }
 },
 "nbformat": 4,
 "nbformat_minor": 5
}
