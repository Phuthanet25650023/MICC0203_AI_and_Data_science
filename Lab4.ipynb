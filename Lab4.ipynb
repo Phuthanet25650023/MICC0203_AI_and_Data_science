{
 "cells": [
  {
   "cell_type": "code",
   "execution_count": null,
   "id": "2ec39d90",
   "metadata": {},
   "outputs": [],
   "source": [
    "import pandas as pd\n",
    "import numpy as np\n",
    "import seaborn as sns\n",
    "import matplotlib.pyplot as plt\n",
    "from scipy.stats import zscore"
   ]
  },
  {
   "cell_type": "markdown",
   "id": "787defdf",
   "metadata": {},
   "source": [
    "# Ex0 Lab Preparation"
   ]
  },
  {
   "cell_type": "code",
   "execution_count": null,
   "id": "ba68dd4b",
   "metadata": {},
   "outputs": [],
   "source": [
    "data = pd.read_csv('data_missing.csv')"
   ]
  },
  {
   "cell_type": "code",
   "execution_count": null,
   "id": "3cfeb06b",
   "metadata": {},
   "outputs": [],
   "source": [
    "data = pd.read_csv('data_clean.csv')"
   ]
  },
  {
   "cell_type": "code",
   "execution_count": null,
   "id": "157e649c",
   "metadata": {},
   "outputs": [],
   "source": [
    "data = pd.read_csv('outlier.csv')"
   ]
  },
  {
   "cell_type": "code",
   "execution_count": null,
   "id": "fc3ae1e3",
   "metadata": {},
   "outputs": [],
   "source": [
    "data = pd.read_csv('credit_card_data.csv', encoding='unicode_escape')"
   ]
  },
  {
   "cell_type": "markdown",
   "id": "0c25ed7d",
   "metadata": {},
   "source": [
    "# Ex1 ข้อมูลสูญหาย"
   ]
  },
  {
   "cell_type": "code",
   "execution_count": null,
   "id": "151d11d3",
   "metadata": {},
   "outputs": [],
   "source": [
    "data = pd.read_csv('data_missing.csv')\n",
    "data_backup = data.copy()"
   ]
  },
  {
   "cell_type": "code",
   "execution_count": null,
   "id": "5dd3b493",
   "metadata": {},
   "outputs": [],
   "source": [
    "data.shape"
   ]
  },
  {
   "cell_type": "code",
   "execution_count": null,
   "id": "063c8073",
   "metadata": {},
   "outputs": [],
   "source": [
    "data.dtypes"
   ]
  },
  {
   "cell_type": "code",
   "execution_count": null,
   "id": "43ccbae2",
   "metadata": {
    "scrolled": true
   },
   "outputs": [],
   "source": [
    "data"
   ]
  },
  {
   "cell_type": "code",
   "execution_count": null,
   "id": "f91a54ee",
   "metadata": {
    "scrolled": true
   },
   "outputs": [],
   "source": [
    "data.head()"
   ]
  },
  {
   "cell_type": "code",
   "execution_count": null,
   "id": "5f32c838",
   "metadata": {},
   "outputs": [],
   "source": [
    "data.tail()"
   ]
  },
  {
   "cell_type": "code",
   "execution_count": null,
   "id": "eb5055c7",
   "metadata": {},
   "outputs": [],
   "source": [
    "data.sample(5)"
   ]
  },
  {
   "cell_type": "code",
   "execution_count": null,
   "id": "6154ffa1",
   "metadata": {
    "scrolled": true
   },
   "outputs": [],
   "source": [
    "data.describe()"
   ]
  },
  {
   "cell_type": "code",
   "execution_count": null,
   "id": "c055b9c3",
   "metadata": {},
   "outputs": [],
   "source": [
    "data.isnull()"
   ]
  },
  {
   "cell_type": "code",
   "execution_count": null,
   "id": "ce868ab9",
   "metadata": {},
   "outputs": [],
   "source": [
    "data.isnull().any()"
   ]
  },
  {
   "cell_type": "code",
   "execution_count": null,
   "id": "71776683",
   "metadata": {},
   "outputs": [],
   "source": [
    "data.isnull().sum()"
   ]
  },
  {
   "cell_type": "code",
   "execution_count": null,
   "id": "bc1809e4",
   "metadata": {},
   "outputs": [],
   "source": [
    "missing_count = data.isnull().sum()\n",
    "total_cells = np.product(data.shape)\n",
    "total_missing = missing_count.sum()\n",
    "missing_percent = total_missing*100/total_cells\n",
    "print(\"Total cells: {}\".format(total_cells))\n",
    "print(\"Total missing values: {}\".format(total_missing))\n",
    "print(\"Missing: {}%\".format(missing_percent))"
   ]
  },
  {
   "cell_type": "markdown",
   "id": "f9c3f47b",
   "metadata": {},
   "source": [
    "## 1.1 การแทนที่ด้วยค่ากลาง"
   ]
  },
  {
   "cell_type": "code",
   "execution_count": null,
   "id": "d04acce4",
   "metadata": {},
   "outputs": [],
   "source": [
    "data.describe()"
   ]
  },
  {
   "cell_type": "code",
   "execution_count": null,
   "id": "6993bb38",
   "metadata": {},
   "outputs": [],
   "source": [
    "data.dtypes"
   ]
  },
  {
   "cell_type": "code",
   "execution_count": null,
   "id": "7ce76790",
   "metadata": {},
   "outputs": [],
   "source": [
    "data['Temp']"
   ]
  },
  {
   "cell_type": "code",
   "execution_count": null,
   "id": "f2ad7e8d",
   "metadata": {},
   "outputs": [],
   "source": [
    "data['Temp'] = data['Temp'].fillna(data['Temp'].median())"
   ]
  },
  {
   "cell_type": "code",
   "execution_count": null,
   "id": "f99aeafb",
   "metadata": {
    "scrolled": true
   },
   "outputs": [],
   "source": [
    "data['Temp']"
   ]
  },
  {
   "cell_type": "code",
   "execution_count": null,
   "id": "b803bea1",
   "metadata": {},
   "outputs": [],
   "source": [
    "data"
   ]
  },
  {
   "cell_type": "code",
   "execution_count": null,
   "id": "e0731d66",
   "metadata": {},
   "outputs": [],
   "source": [
    "data['Humid'] = data['Humid'].fillna(data['Humid'].mean())"
   ]
  },
  {
   "cell_type": "code",
   "execution_count": null,
   "id": "4eec2c43",
   "metadata": {},
   "outputs": [],
   "source": [
    "data"
   ]
  },
  {
   "cell_type": "code",
   "execution_count": null,
   "id": "62025e31",
   "metadata": {},
   "outputs": [],
   "source": [
    "data = data_backup.copy() #data = pd.read_csv('data_missing.csv')"
   ]
  },
  {
   "cell_type": "code",
   "execution_count": null,
   "id": "6f923b13",
   "metadata": {},
   "outputs": [],
   "source": [
    "data"
   ]
  },
  {
   "cell_type": "code",
   "execution_count": null,
   "id": "47845e2e",
   "metadata": {},
   "outputs": [],
   "source": [
    "columns = ['Temp','Humid']\n",
    "data[columns] = data[columns].fillna(data[columns].median())"
   ]
  },
  {
   "cell_type": "code",
   "execution_count": null,
   "id": "e138b76c",
   "metadata": {},
   "outputs": [],
   "source": [
    "data"
   ]
  },
  {
   "cell_type": "markdown",
   "id": "c0ef4782",
   "metadata": {},
   "source": [
    "## 1.2 การแทนที่ด้วยค่าใดค่าหนึ่ง"
   ]
  },
  {
   "cell_type": "code",
   "execution_count": null,
   "id": "34a65b84",
   "metadata": {},
   "outputs": [],
   "source": [
    "data = data_backup.copy()\n",
    "columns = ['Temp','Humid']\n",
    "data[columns] = data[columns].fillna(-999)\n",
    "data"
   ]
  },
  {
   "cell_type": "markdown",
   "id": "78a0eac1",
   "metadata": {},
   "source": [
    "## 1.3 การแทนด้วยค่าก่อนหน้า"
   ]
  },
  {
   "cell_type": "code",
   "execution_count": null,
   "id": "e4519fdf",
   "metadata": {},
   "outputs": [],
   "source": [
    "data = data_backup.copy()\n",
    "data.fillna(method='pad', inplace=True)\n",
    "data"
   ]
  },
  {
   "cell_type": "markdown",
   "id": "6153359f",
   "metadata": {},
   "source": [
    "## 1.4 การแทนด้วยค่าถัดไป"
   ]
  },
  {
   "cell_type": "code",
   "execution_count": null,
   "id": "6a5e09a1",
   "metadata": {},
   "outputs": [],
   "source": [
    "data = data_backup.copy()\n",
    "data.fillna(method='bfill', inplace=True)\n",
    "data"
   ]
  },
  {
   "cell_type": "markdown",
   "id": "63f7c499",
   "metadata": {},
   "source": [
    "## 1.5 การลบข้อมูลที่สูญหาย"
   ]
  },
  {
   "cell_type": "code",
   "execution_count": null,
   "id": "c0069287",
   "metadata": {},
   "outputs": [],
   "source": [
    "data = data_backup.copy()\n",
    "data.dropna(inplace=True)\n",
    "data"
   ]
  },
  {
   "cell_type": "code",
   "execution_count": null,
   "id": "2c092440",
   "metadata": {},
   "outputs": [],
   "source": [
    "data = data_backup.copy()\n",
    "data.dropna(subset=['Temp','Humid'], inplace=True)\n",
    "data"
   ]
  },
  {
   "cell_type": "markdown",
   "id": "e0f82803",
   "metadata": {},
   "source": [
    "# Ex2"
   ]
  },
  {
   "cell_type": "code",
   "execution_count": null,
   "id": "f9721509",
   "metadata": {
    "scrolled": true
   },
   "outputs": [],
   "source": [
    "data = pd.read_csv('data_clean.csv')\n",
    "data_backup = data.copy()\n",
    "print(data.shape)\n",
    "print()\n",
    "print(data.describe())\n",
    "print()\n",
    "print(data.dtypes)\n",
    "print()\n",
    "print(data)"
   ]
  },
  {
   "cell_type": "markdown",
   "id": "4eeb43c3",
   "metadata": {},
   "source": [
    "## 2.1 การลบคอลัมน์"
   ]
  },
  {
   "cell_type": "code",
   "execution_count": null,
   "id": "ee23cc3f",
   "metadata": {},
   "outputs": [],
   "source": [
    "data = data_backup.copy()\n",
    "data.drop(columns='PID', inplace=True)\n",
    "data"
   ]
  },
  {
   "cell_type": "markdown",
   "id": "0a8cf36a",
   "metadata": {},
   "source": [
    "## 2.2 การเปลี่ยนชื่อคอลัมน์"
   ]
  },
  {
   "cell_type": "code",
   "execution_count": null,
   "id": "2aec2f33",
   "metadata": {},
   "outputs": [],
   "source": [
    "data = data_backup.copy()\n",
    "data = data.rename(columns={'ST_NAME':'name','NUM_BEDROOMS':'bed'})\n",
    "data"
   ]
  },
  {
   "cell_type": "markdown",
   "id": "c3faeaea",
   "metadata": {},
   "source": [
    "## 2.3 การตรวจสอบค่าของข้อมูล"
   ]
  },
  {
   "cell_type": "code",
   "execution_count": null,
   "id": "d8153bc0",
   "metadata": {},
   "outputs": [],
   "source": [
    "data = data_backup.copy()\n",
    "data.groupby('OWN_OCCUPIED')['OWN_OCCUPIED'].count()"
   ]
  },
  {
   "cell_type": "code",
   "execution_count": null,
   "id": "68ce00fe",
   "metadata": {},
   "outputs": [],
   "source": [
    "sns.countplot(x='OWN_OCCUPIED', data=data)"
   ]
  },
  {
   "cell_type": "code",
   "execution_count": null,
   "id": "14326710",
   "metadata": {},
   "outputs": [],
   "source": [
    "data['OWN_OCCUPIED'] = data['OWN_OCCUPIED'].str.upper()\n",
    "data['OWN_OCCUPIED']"
   ]
  },
  {
   "cell_type": "code",
   "execution_count": null,
   "id": "9b9d7b37",
   "metadata": {},
   "outputs": [],
   "source": [
    "sns.countplot(x='OWN_OCCUPIED', data=data)"
   ]
  },
  {
   "cell_type": "markdown",
   "id": "40350bd3",
   "metadata": {},
   "source": [
    "## 2.4 การจัดการข้อมูลผิดชนิด"
   ]
  },
  {
   "cell_type": "code",
   "execution_count": null,
   "id": "c05a729b",
   "metadata": {},
   "outputs": [],
   "source": [
    "data = data_backup.copy()\n",
    "data = data.rename(columns={'OWN_OCCUPIED':'own'})\n",
    "data.own = data.own.str.upper()"
   ]
  },
  {
   "cell_type": "code",
   "execution_count": null,
   "id": "7ad63790",
   "metadata": {},
   "outputs": [],
   "source": [
    "data.own"
   ]
  },
  {
   "cell_type": "code",
   "execution_count": null,
   "id": "04f7091a",
   "metadata": {},
   "outputs": [],
   "source": [
    "data.own == '12'"
   ]
  },
  {
   "cell_type": "code",
   "execution_count": null,
   "id": "78aa518b",
   "metadata": {},
   "outputs": [],
   "source": [
    "data[data.own == '12']"
   ]
  },
  {
   "cell_type": "code",
   "execution_count": null,
   "id": "0b10eb63",
   "metadata": {
    "scrolled": true
   },
   "outputs": [],
   "source": [
    "data.at[10,'own'] = 'N'\n",
    "data"
   ]
  },
  {
   "cell_type": "code",
   "execution_count": null,
   "id": "51e4dfd0",
   "metadata": {
    "scrolled": true
   },
   "outputs": [],
   "source": [
    "sns.countplot(x='own', data=data)"
   ]
  },
  {
   "cell_type": "markdown",
   "id": "cb873297",
   "metadata": {},
   "source": [
    "## 2.5 การคัดกรองและลบแถวทิ้ง"
   ]
  },
  {
   "cell_type": "code",
   "execution_count": null,
   "id": "07a59a27",
   "metadata": {},
   "outputs": [],
   "source": [
    "data = data_backup.copy()\n",
    "data['OWN_OCCUPIED'] = data['OWN_OCCUPIED'].str.upper()\n",
    "data[data['OWN_OCCUPIED'] == '12']"
   ]
  },
  {
   "cell_type": "code",
   "execution_count": null,
   "id": "ca513ce6",
   "metadata": {
    "scrolled": true
   },
   "outputs": [],
   "source": [
    "data['OWN_OCCUPIED'] == '12'"
   ]
  },
  {
   "cell_type": "code",
   "execution_count": null,
   "id": "736d02b7",
   "metadata": {},
   "outputs": [],
   "source": [
    "idx = data[data['OWN_OCCUPIED'] == '12'].index"
   ]
  },
  {
   "cell_type": "code",
   "execution_count": null,
   "id": "e093b425",
   "metadata": {},
   "outputs": [],
   "source": [
    "idx"
   ]
  },
  {
   "cell_type": "code",
   "execution_count": null,
   "id": "18bbce28",
   "metadata": {},
   "outputs": [],
   "source": [
    "data.loc[idx]"
   ]
  },
  {
   "cell_type": "code",
   "execution_count": null,
   "id": "cc91af62",
   "metadata": {},
   "outputs": [],
   "source": [
    "data.drop(idx, inplace=True)"
   ]
  },
  {
   "cell_type": "code",
   "execution_count": null,
   "id": "29cdcd4e",
   "metadata": {},
   "outputs": [],
   "source": [
    "data"
   ]
  },
  {
   "cell_type": "code",
   "execution_count": null,
   "id": "9a05e585",
   "metadata": {},
   "outputs": [],
   "source": [
    "sns.countplot(x='OWN_OCCUPIED', data=data)"
   ]
  },
  {
   "cell_type": "markdown",
   "id": "fc761552",
   "metadata": {},
   "source": [
    "## 2.6 การจัดการข้อมูลแบบตัวเลข"
   ]
  },
  {
   "cell_type": "code",
   "execution_count": null,
   "id": "03820715",
   "metadata": {},
   "outputs": [],
   "source": [
    "data = data_backup.copy()\n",
    "print(data.dtypes)\n",
    "print()\n",
    "print(data['NUM_BATH'])"
   ]
  },
  {
   "cell_type": "code",
   "execution_count": null,
   "id": "83776db1",
   "metadata": {},
   "outputs": [],
   "source": [
    "data.isnull().any()"
   ]
  },
  {
   "cell_type": "code",
   "execution_count": null,
   "id": "29fee048",
   "metadata": {},
   "outputs": [],
   "source": [
    "data['NUM_BATH'] = data['NUM_BATH'].fillna(data['NUM_BATH'].mean())"
   ]
  },
  {
   "cell_type": "code",
   "execution_count": null,
   "id": "5c2b75a1",
   "metadata": {},
   "outputs": [],
   "source": [
    "data['NUM_BATH'] = pd.to_numeric(data['NUM_BATH'], errors='coerce', downcast='integer')"
   ]
  },
  {
   "cell_type": "code",
   "execution_count": null,
   "id": "6c67f0f6",
   "metadata": {
    "scrolled": true
   },
   "outputs": [],
   "source": [
    "data['NUM_BATH']"
   ]
  },
  {
   "cell_type": "code",
   "execution_count": null,
   "id": "796a8239",
   "metadata": {},
   "outputs": [],
   "source": [
    "def float2int(val):\n",
    "    if val % 1 == 0:\n",
    "        return int(val)\n",
    "    else:\n",
    "        return np.nan\n",
    "\n",
    "def float2int2(val):\n",
    "    return int(val) if val % 1 == 0 else np.nan "
   ]
  },
  {
   "cell_type": "code",
   "execution_count": null,
   "id": "1dc903e3",
   "metadata": {},
   "outputs": [],
   "source": [
    "data['NUM_BATH'] = data['NUM_BATH'].apply(float2int)\n",
    "data['NUM_BATH']"
   ]
  },
  {
   "cell_type": "code",
   "execution_count": null,
   "id": "a3497243",
   "metadata": {},
   "outputs": [],
   "source": [
    "data['NUM_BATH'] = data['NUM_BATH'].apply(lambda x: x if (x % 1 == 0) else np.nan)\n",
    "data['NUM_BATH']"
   ]
  },
  {
   "cell_type": "code",
   "execution_count": null,
   "id": "aa246bdc",
   "metadata": {},
   "outputs": [],
   "source": [
    "data['NUM_BATH'].notnull()"
   ]
  },
  {
   "cell_type": "code",
   "execution_count": null,
   "id": "0edfd806",
   "metadata": {},
   "outputs": [],
   "source": [
    "data = data[data['NUM_BATH'].notnull()]\n",
    "data"
   ]
  },
  {
   "cell_type": "code",
   "execution_count": null,
   "id": "b4d2d106",
   "metadata": {},
   "outputs": [],
   "source": [
    "data['NUM_BATH'] = data['NUM_BATH'].astype('int64')\n",
    "data['NUM_BATH']"
   ]
  },
  {
   "cell_type": "code",
   "execution_count": null,
   "id": "72d9cec8",
   "metadata": {},
   "outputs": [],
   "source": [
    "data.dtypes"
   ]
  },
  {
   "cell_type": "code",
   "execution_count": null,
   "id": "7a5a61e0",
   "metadata": {},
   "outputs": [],
   "source": [
    "data = data[data['NUM_BATH']>0]\n",
    "data"
   ]
  },
  {
   "cell_type": "markdown",
   "id": "33d5d3e1",
   "metadata": {},
   "source": [
    "# Ex3"
   ]
  },
  {
   "cell_type": "markdown",
   "id": "a23ed341",
   "metadata": {},
   "source": [
    "## 3.1 การใช้ IQR เพื่อหาค่าผิดปกติ"
   ]
  },
  {
   "cell_type": "code",
   "execution_count": null,
   "id": "dc1410c4",
   "metadata": {},
   "outputs": [],
   "source": [
    "data = pd.read_csv('outlier.csv')\n",
    "data_backup = data.copy()\n",
    "print(data)\n",
    "print('--------------------------------------')\n",
    "print(data.describe())"
   ]
  },
  {
   "cell_type": "code",
   "execution_count": null,
   "id": "7ff13031",
   "metadata": {},
   "outputs": [],
   "source": [
    "q3 = data.Buy.quantile(.75)\n",
    "q1 = data.Buy.quantile(.25)"
   ]
  },
  {
   "cell_type": "code",
   "execution_count": null,
   "id": "30cb097c",
   "metadata": {},
   "outputs": [],
   "source": [
    "iqr = q3 - q1\n",
    "\n",
    "print('Q1: {}' . format(q1))\n",
    "print('Q3: {}' . format(q3))\n",
    "print('IQR: {}' . format(iqr))\n",
    "\n",
    "upper = q3 + (1.5 * iqr)\n",
    "lower = q1 - (1.5 * iqr)\n",
    "print('Lower: {:.2f} \\nUpper: {:.2f}' . format(lower, upper))"
   ]
  },
  {
   "cell_type": "markdown",
   "id": "afdc4337",
   "metadata": {},
   "source": [
    "## 3.2 การตรวจสอบค่าผิดปกติด้วย Boxplot"
   ]
  },
  {
   "cell_type": "code",
   "execution_count": null,
   "id": "237050a3",
   "metadata": {},
   "outputs": [],
   "source": [
    "plt.axvline(x=q1, c='b', linestyle='--', linewidth=1) #\n",
    "plt.axvline(x=q3, c='g', linestyle='--', linewidth=1) #\n",
    "plt.axvline(x=lower, c='r', linestyle='--') #\n",
    "plt.axvline(x=upper, c='r', linestyle='--') #\n",
    "sns.boxplot(x=data.Buy, width=0.4, palette='Set2')\n",
    "plt.show()"
   ]
  },
  {
   "cell_type": "markdown",
   "id": "380a3d93",
   "metadata": {},
   "source": [
    "## 3.3 ขอบเขตบน และขอบเขตล่าง"
   ]
  },
  {
   "cell_type": "code",
   "execution_count": null,
   "id": "c1300f84",
   "metadata": {},
   "outputs": [],
   "source": [
    "filter_upper = data.Buy > upper"
   ]
  },
  {
   "cell_type": "code",
   "execution_count": null,
   "id": "bd05e71c",
   "metadata": {},
   "outputs": [],
   "source": [
    "data[filter_upper].count()"
   ]
  },
  {
   "cell_type": "code",
   "execution_count": null,
   "id": "b3e5440c",
   "metadata": {},
   "outputs": [],
   "source": [
    "data[filter_upper]"
   ]
  },
  {
   "cell_type": "code",
   "execution_count": null,
   "id": "e0bff994",
   "metadata": {},
   "outputs": [],
   "source": [
    "data.drop(data[filter_upper].index, inplace=True)\n",
    "data"
   ]
  },
  {
   "cell_type": "code",
   "execution_count": null,
   "id": "9eab9fc2",
   "metadata": {},
   "outputs": [],
   "source": [
    "filter_lower = data.Buy < lower\n",
    "data[filter_lower]"
   ]
  },
  {
   "cell_type": "code",
   "execution_count": null,
   "id": "fb9710bf",
   "metadata": {},
   "outputs": [],
   "source": [
    "data.drop(data[filter_lower].index, inplace=True)\n",
    "data"
   ]
  },
  {
   "cell_type": "code",
   "execution_count": null,
   "id": "1c405f25",
   "metadata": {},
   "outputs": [],
   "source": [
    "q3 = data.Buy.quantile(.75)\n",
    "q1 = data.Buy.quantile(.25)\n",
    "\n",
    "iqr = q3 - q1\n",
    "\n",
    "print('Q1: {}' . format(q1))\n",
    "print('Q3: {}' . format(q3))\n",
    "print('IQR: {}' . format(iqr))\n",
    "\n",
    "upper = q3 + (1.5 * iqr)\n",
    "lower = q1 - (1.5 * iqr)\n",
    "print('Lower: {:.2f} \\nUpper: {:.2f}' . format(lower, upper))"
   ]
  },
  {
   "cell_type": "code",
   "execution_count": null,
   "id": "24a5223b",
   "metadata": {},
   "outputs": [],
   "source": [
    "plt.axvline(x=q1, c='b', linestyle='--', linewidth=1) #\n",
    "plt.axvline(x=q3, c='g', linestyle='--', linewidth=1) #\n",
    "plt.axvline(x=lower, c='r', linestyle='--') #\n",
    "plt.axvline(x=upper, c='r', linestyle='--') #\n",
    "sns.boxplot(x=data.Buy, width=0.4, palette='Set2')\n",
    "plt.show()"
   ]
  },
  {
   "cell_type": "code",
   "execution_count": null,
   "id": "f0e52b71",
   "metadata": {},
   "outputs": [],
   "source": [
    "filter_upper = data.Buy > upper\n",
    "data.drop(data[filter_upper].index, inplace=True)\n",
    "filter_lower = data.Buy < lower\n",
    "data.drop(data[filter_lower].index, inplace=True)"
   ]
  },
  {
   "cell_type": "code",
   "execution_count": null,
   "id": "712918b0",
   "metadata": {
    "scrolled": true
   },
   "outputs": [],
   "source": [
    "data"
   ]
  },
  {
   "cell_type": "code",
   "execution_count": null,
   "id": "883aa6cd",
   "metadata": {},
   "outputs": [],
   "source": [
    "q3 = data.Buy.quantile(.75)\n",
    "q1 = data.Buy.quantile(.25)\n",
    "\n",
    "iqr = q3 - q1\n",
    "\n",
    "print('Q1: {}' . format(q1))\n",
    "print('Q3: {}' . format(q3))\n",
    "print('IQR: {}' . format(iqr))\n",
    "\n",
    "upper = q3 + (1.5 * iqr)\n",
    "lower = q1 - (1.5 * iqr)\n",
    "print('Lower: {:.2f} \\nUpper: {:.2f}' . format(lower, upper))"
   ]
  },
  {
   "cell_type": "code",
   "execution_count": null,
   "id": "96414df4",
   "metadata": {},
   "outputs": [],
   "source": [
    "plt.axvline(x=q1, c='b', linestyle='--', linewidth=1) #\n",
    "plt.axvline(x=q3, c='g', linestyle='--', linewidth=1) #\n",
    "plt.axvline(x=lower, c='r', linestyle='--') #\n",
    "plt.axvline(x=upper, c='r', linestyle='--') #\n",
    "sns.boxplot(x=data.Buy, width=0.4, palette='Set2')\n",
    "plt.show()"
   ]
  },
  {
   "cell_type": "markdown",
   "id": "1f464f6a",
   "metadata": {},
   "source": [
    "## 3.4 Z-score"
   ]
  },
  {
   "cell_type": "code",
   "execution_count": null,
   "id": "b48056e0",
   "metadata": {},
   "outputs": [],
   "source": [
    "data = pd.read_csv('outlier.csv')\n",
    "data_backup = data.copy()"
   ]
  },
  {
   "cell_type": "code",
   "execution_count": null,
   "id": "9163016d",
   "metadata": {},
   "outputs": [],
   "source": [
    "data['buy_zscore'] = zscore(data.Buy, ddof=0)\n",
    "data"
   ]
  },
  {
   "cell_type": "code",
   "execution_count": null,
   "id": "58be3fe9",
   "metadata": {},
   "outputs": [],
   "source": [
    "data.describe()"
   ]
  },
  {
   "cell_type": "code",
   "execution_count": null,
   "id": "93360b21",
   "metadata": {},
   "outputs": [],
   "source": [
    "f, axes = plt.subplots(1, 2, figsize=(10, 3))\n",
    "sns.histplot(x=data.Buy, bins=20, ax=axes[0], color='b', kde=True, stat=\"density\")\n",
    "sns.histplot(x=data.buy_zscore, bins=20, ax=axes[1], color='b', kde=True, stat=\"density\")\n",
    "plt.show()"
   ]
  },
  {
   "cell_type": "code",
   "execution_count": null,
   "id": "8057a1f5",
   "metadata": {},
   "outputs": [],
   "source": [
    "diff = 2.5\n",
    "data['buy_outlier'] = data.buy_zscore.apply(lambda x : (np.abs(x) >= diff) )"
   ]
  },
  {
   "cell_type": "code",
   "execution_count": null,
   "id": "4596ce3c",
   "metadata": {},
   "outputs": [],
   "source": [
    "data"
   ]
  },
  {
   "cell_type": "code",
   "execution_count": null,
   "id": "28fb0ada",
   "metadata": {},
   "outputs": [],
   "source": [
    "filter = np.abs(data.buy_zscore) <= diff\n",
    "data = data[filter]"
   ]
  },
  {
   "cell_type": "code",
   "execution_count": null,
   "id": "29bcd4e2",
   "metadata": {},
   "outputs": [],
   "source": [
    "data"
   ]
  },
  {
   "cell_type": "markdown",
   "id": "0b28a8ff",
   "metadata": {},
   "source": [
    "# 4. การบันทึกไฟล์ CSV หรือ Excel ที่ถูกแก้ไขแล้ว"
   ]
  },
  {
   "cell_type": "code",
   "execution_count": null,
   "id": "8afc665c",
   "metadata": {},
   "outputs": [],
   "source": [
    "import pandas as pd\n",
    "import numpy as np\n",
    "%matplotlib inline\n",
    "import seaborn as sns\n",
    "import matplotlib.pyplot as plt\n",
    "from scipy.stats import zscore\n",
    "\n",
    "data = pd.read_csv('data_missing.csv')\n",
    "print('Original')\n",
    "print(data)\n",
    "print('-----------------------------------------------')\n",
    "columns = ['Temp','Humid']\n",
    "data[columns] = data[columns].fillna(data[columns].median())\n",
    "print('Missing Data')\n",
    "print(data)\n",
    "print('-----------------------------------------------')\n",
    "data.to_csv('test.csv',index=False)\n",
    "data.to_excel('test.xlsx',index=False)"
   ]
  },
  {
   "cell_type": "markdown",
   "id": "69e3eecb",
   "metadata": {},
   "source": [
    "# 5. Quiz: ตรวจสอบข้อมูลทุก Features แล้วทำ Data Cleaning ทั้งหมด"
   ]
  },
  {
   "cell_type": "markdown",
   "id": "263597cc",
   "metadata": {},
   "source": [
    "## 5.1 คำอธิบายข้อมูล\n",
    "### card คือ สถานะการใช้งานบัตร\n",
    "### reports คือ จำนวนครั้งที่ถูกรายงานว่าผิดนัด\n",
    "### age คือ อายุของผู้ถือบัตร [แทนที่ค่าว่างด้วย Median]\n",
    "### income คือ รายได้ของผู้ถือบัตร [แทนที่ค่าว่างด้วย Mean]\n",
    "### share คือ ส่วนแบ่งค่านายหน้า [แทนที่ค่าว่างด้วย ค่าก่อนหน้า][ค่าไม่เกิน 1.0]\n",
    "### expenditure คือ รายจ่ายของผู้ถือบัตร [แทนที่ค่าว่างด้วย ค่าถัดไป]\n",
    "### owner คือ ผู้ถือบัตรเป็นเจ้าของกิจการหรือไม่\n",
    "### selfemp คือ ผู้ถือบัตรประกอบอาชีพอิสระหรือไม่\n",
    "### dependents คือ จำนวนผู้อยู่ในอุปการะ\n",
    "### months คือ จำนวนเดือน  [แทนที่ค่าว่างด้วย รหัสนักศึกษา 2 ตัวท้าย][ค่าไม่เกิน 500]\n",
    "### majorcards คือ ใช่ร่วมกับบัตรหลักหรือไม่\n",
    "### active คือ ระยะเวลาที่ใช้งานล่าสุด [ลบแถวที่มีค่าว่าง][แทนที่ข้อมูลด้วย รหัสนักศึกษา 2 ตัวท้าย]\n",
    "\n",
    "## 5.2 Export ออกมาเป็นไฟล์ csv หรือ xlsx ก็ได้โดยกำหนดชื่อเป็นรหัสนักศึกษา"
   ]
  },
  {
   "cell_type": "code",
   "execution_count": null,
   "id": "e8d80f99",
   "metadata": {
    "scrolled": true
   },
   "outputs": [],
   "source": [
    "data = pd.read_csv('credit_card_data.csv', encoding='unicode_escape')\n",
    "data_backup = data.copy()\n",
    "print(data)\n",
    "print()\n",
    "print(data.describe())"
   ]
  },
  {
   "cell_type": "code",
   "execution_count": null,
   "id": "75f373fd",
   "metadata": {},
   "outputs": [],
   "source": [
    "data.dtypes"
   ]
  },
  {
   "cell_type": "code",
   "execution_count": null,
   "id": "a3d56baf",
   "metadata": {},
   "outputs": [],
   "source": [
    "data.isnull().any()"
   ]
  },
  {
   "cell_type": "code",
   "execution_count": null,
   "id": "c9fef8b9",
   "metadata": {
    "scrolled": false
   },
   "outputs": [],
   "source": [
    "data.isnull().sum()"
   ]
  },
  {
   "cell_type": "code",
   "execution_count": null,
   "id": "ecaedbcd",
   "metadata": {},
   "outputs": [],
   "source": []
  }
 ],
 "metadata": {
  "kernelspec": {
   "display_name": "Python 3",
   "language": "python",
   "name": "python3"
  },
  "language_info": {
   "codemirror_mode": {
    "name": "ipython",
    "version": 3
   },
   "file_extension": ".py",
   "mimetype": "text/x-python",
   "name": "python",
   "nbconvert_exporter": "python",
   "pygments_lexer": "ipython3",
   "version": "3.8.8"
  }
 },
 "nbformat": 4,
 "nbformat_minor": 5
}
