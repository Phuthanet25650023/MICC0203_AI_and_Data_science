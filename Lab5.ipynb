{
 "cells": [
  {
   "cell_type": "code",
   "execution_count": null,
   "id": "2ec39d90",
   "metadata": {},
   "outputs": [],
   "source": [
    "import pandas as pd\n",
    "import numpy as np\n",
    "import seaborn as sns\n",
    "import matplotlib.pyplot as plt\n",
    "from scipy.stats import zscore"
   ]
  },
  {
   "cell_type": "markdown",
   "id": "33d5d3e1",
   "metadata": {},
   "source": [
    "# Ex1"
   ]
  },
  {
   "cell_type": "markdown",
   "id": "a23ed341",
   "metadata": {},
   "source": [
    "## 1.1 การใช้ IQR เพื่อหาค่าผิดปกติ"
   ]
  },
  {
   "cell_type": "code",
   "execution_count": null,
   "id": "dc1410c4",
   "metadata": {},
   "outputs": [],
   "source": [
    "data = pd.read_csv('outlier.csv')\n",
    "data_backup = data.copy()\n",
    "print(data)\n",
    "print('--------------------------------------')\n",
    "print(data.describe())"
   ]
  },
  {
   "cell_type": "code",
   "execution_count": null,
   "id": "7ff13031",
   "metadata": {},
   "outputs": [],
   "source": [
    "q3 = data.Buy.quantile(.75)\n",
    "q1 = data.Buy.quantile(.25)"
   ]
  },
  {
   "cell_type": "code",
   "execution_count": null,
   "id": "30cb097c",
   "metadata": {},
   "outputs": [],
   "source": [
    "iqr = q3 - q1\n",
    "\n",
    "print('Q1: {}' . format(q1))\n",
    "print('Q3: {}' . format(q3))\n",
    "print('IQR: {}' . format(iqr))\n",
    "\n",
    "upper = q3 + (1.5 * iqr)\n",
    "lower = q1 - (1.5 * iqr)\n",
    "print('Lower: {:.2f} \\nUpper: {:.2f}' . format(lower, upper))"
   ]
  },
  {
   "cell_type": "markdown",
   "id": "afdc4337",
   "metadata": {},
   "source": [
    "## 1.2 การตรวจสอบค่าผิดปกติด้วย Boxplot"
   ]
  },
  {
   "cell_type": "code",
   "execution_count": null,
   "id": "237050a3",
   "metadata": {},
   "outputs": [],
   "source": [
    "plt.axvline(x=q1, c='b', linestyle='--', linewidth=1) #\n",
    "plt.axvline(x=q3, c='g', linestyle='--', linewidth=1) #\n",
    "plt.axvline(x=lower, c='r', linestyle='--') #\n",
    "plt.axvline(x=upper, c='r', linestyle='--') #\n",
    "sns.boxplot(x=data.Buy, width=0.4, palette='Set2')\n",
    "plt.show()"
   ]
  },
  {
   "cell_type": "markdown",
   "id": "380a3d93",
   "metadata": {},
   "source": [
    "## 1.3 ขอบเขตบน และขอบเขตล่าง"
   ]
  },
  {
   "cell_type": "code",
   "execution_count": null,
   "id": "c1300f84",
   "metadata": {},
   "outputs": [],
   "source": [
    "filter_upper = data.Buy > upper"
   ]
  },
  {
   "cell_type": "code",
   "execution_count": null,
   "id": "bd05e71c",
   "metadata": {},
   "outputs": [],
   "source": [
    "data[filter_upper].count()"
   ]
  },
  {
   "cell_type": "code",
   "execution_count": null,
   "id": "b3e5440c",
   "metadata": {},
   "outputs": [],
   "source": [
    "data[filter_upper]"
   ]
  },
  {
   "cell_type": "code",
   "execution_count": null,
   "id": "e0bff994",
   "metadata": {},
   "outputs": [],
   "source": [
    "data.drop(data[filter_upper].index, inplace=True)\n",
    "data"
   ]
  },
  {
   "cell_type": "code",
   "execution_count": null,
   "id": "9eab9fc2",
   "metadata": {},
   "outputs": [],
   "source": [
    "filter_lower = data.Buy < lower\n",
    "data[filter_lower]"
   ]
  },
  {
   "cell_type": "code",
   "execution_count": null,
   "id": "fb9710bf",
   "metadata": {},
   "outputs": [],
   "source": [
    "data.drop(data[filter_lower].index, inplace=True)\n",
    "data"
   ]
  },
  {
   "cell_type": "code",
   "execution_count": null,
   "id": "1c405f25",
   "metadata": {},
   "outputs": [],
   "source": [
    "q3 = data.Buy.quantile(.75)\n",
    "q1 = data.Buy.quantile(.25)\n",
    "\n",
    "iqr = q3 - q1\n",
    "\n",
    "print('Q1: {}' . format(q1))\n",
    "print('Q3: {}' . format(q3))\n",
    "print('IQR: {}' . format(iqr))\n",
    "\n",
    "upper = q3 + (1.5 * iqr)\n",
    "lower = q1 - (1.5 * iqr)\n",
    "print('Lower: {:.2f} \\nUpper: {:.2f}' . format(lower, upper))"
   ]
  },
  {
   "cell_type": "code",
   "execution_count": null,
   "id": "24a5223b",
   "metadata": {},
   "outputs": [],
   "source": [
    "plt.axvline(x=q1, c='b', linestyle='--', linewidth=1) #\n",
    "plt.axvline(x=q3, c='g', linestyle='--', linewidth=1) #\n",
    "plt.axvline(x=lower, c='r', linestyle='--') #\n",
    "plt.axvline(x=upper, c='r', linestyle='--') #\n",
    "sns.boxplot(x=data.Buy, width=0.4, palette='Set2')\n",
    "plt.show()"
   ]
  },
  {
   "cell_type": "code",
   "execution_count": null,
   "id": "f0e52b71",
   "metadata": {},
   "outputs": [],
   "source": [
    "filter_upper = data.Buy > upper\n",
    "data.drop(data[filter_upper].index, inplace=True)\n",
    "filter_lower = data.Buy < lower\n",
    "data.drop(data[filter_lower].index, inplace=True)"
   ]
  },
  {
   "cell_type": "code",
   "execution_count": null,
   "id": "712918b0",
   "metadata": {
    "scrolled": true
   },
   "outputs": [],
   "source": [
    "data"
   ]
  },
  {
   "cell_type": "code",
   "execution_count": null,
   "id": "883aa6cd",
   "metadata": {},
   "outputs": [],
   "source": [
    "q3 = data.Buy.quantile(.75)\n",
    "q1 = data.Buy.quantile(.25)\n",
    "\n",
    "iqr = q3 - q1\n",
    "\n",
    "print('Q1: {}' . format(q1))\n",
    "print('Q3: {}' . format(q3))\n",
    "print('IQR: {}' . format(iqr))\n",
    "\n",
    "upper = q3 + (1.5 * iqr)\n",
    "lower = q1 - (1.5 * iqr)\n",
    "print('Lower: {:.2f} \\nUpper: {:.2f}' . format(lower, upper))"
   ]
  },
  {
   "cell_type": "code",
   "execution_count": null,
   "id": "96414df4",
   "metadata": {},
   "outputs": [],
   "source": [
    "plt.axvline(x=q1, c='b', linestyle='--', linewidth=1) #\n",
    "plt.axvline(x=q3, c='g', linestyle='--', linewidth=1) #\n",
    "plt.axvline(x=lower, c='r', linestyle='--') #\n",
    "plt.axvline(x=upper, c='r', linestyle='--') #\n",
    "sns.boxplot(x=data.Buy, width=0.4, palette='Set2')\n",
    "plt.show()"
   ]
  },
  {
   "attachments": {
    "BMI29&30-Z.png": {
     "image/png": "[encoded data removed]"
    }
   },
   "cell_type": "markdown",
   "id": "1f464f6a",
   "metadata": {},
   "source": [
    "## 1.4 Z-score\n",
    "![BMI29&30-Z.png](attachment:BMI29&30-Z.png)"
   ]
  },
  {
   "cell_type": "code",
   "execution_count": null,
   "id": "b48056e0",
   "metadata": {},
   "outputs": [],
   "source": [
    "data = pd.read_csv('outlier.csv')\n",
    "data_backup = data.copy()"
   ]
  },
  {
   "cell_type": "code",
   "execution_count": null,
   "id": "9163016d",
   "metadata": {},
   "outputs": [],
   "source": [
    "data['buy_zscore'] = zscore(data.Buy, ddof=0)\n",
    "data"
   ]
  },
  {
   "cell_type": "code",
   "execution_count": null,
   "id": "58be3fe9",
   "metadata": {},
   "outputs": [],
   "source": [
    "data.describe()"
   ]
  },
  {
   "cell_type": "code",
   "execution_count": null,
   "id": "93360b21",
   "metadata": {},
   "outputs": [],
   "source": [
    "f, axes = plt.subplots(1, 2, figsize=(10, 3))\n",
    "sns.histplot(x=data.Buy, bins=20, ax=axes[0], color='b', kde=True, stat=\"density\")\n",
    "sns.histplot(x=data.buy_zscore, bins=20, ax=axes[1], color='b', kde=True, stat=\"density\")\n",
    "plt.show()"
   ]
  },
  {
   "cell_type": "code",
   "execution_count": null,
   "id": "8057a1f5",
   "metadata": {},
   "outputs": [],
   "source": [
    "diff = 2.5\n",
    "data['buy_outlier'] = data.buy_zscore.apply(lambda x : (np.abs(x) >= diff) )"
   ]
  },
  {
   "cell_type": "code",
   "execution_count": null,
   "id": "4596ce3c",
   "metadata": {},
   "outputs": [],
   "source": [
    "data"
   ]
  },
  {
   "cell_type": "code",
   "execution_count": null,
   "id": "28fb0ada",
   "metadata": {},
   "outputs": [],
   "source": [
    "filter = np.abs(data.buy_zscore) <= diff\n",
    "data = data[filter]"
   ]
  },
  {
   "cell_type": "code",
   "execution_count": null,
   "id": "29bcd4e2",
   "metadata": {},
   "outputs": [],
   "source": [
    "data"
   ]
  },
  {
   "cell_type": "markdown",
   "id": "bd11a736",
   "metadata": {},
   "source": [
    "# 2.ตัวอย่างการหาค่าผิดปกติด้วย IQR และ Boxplot"
   ]
  },
  {
   "cell_type": "code",
   "execution_count": null,
   "id": "d5de342c",
   "metadata": {},
   "outputs": [],
   "source": [
    "data = pd.read_csv('weight-height.csv', encoding='unicode_escape')\n",
    "data_backup = data.copy()\n",
    "data"
   ]
  },
  {
   "cell_type": "code",
   "execution_count": null,
   "id": "ad087128",
   "metadata": {},
   "outputs": [],
   "source": [
    "data.describe()"
   ]
  },
  {
   "cell_type": "markdown",
   "id": "0c082b75",
   "metadata": {},
   "source": [
    "## 2.1 ค้นหาขอบเขตบน และขอบเขตล่าง คอลัมน์ Height ครั้งที่ 1"
   ]
  },
  {
   "cell_type": "code",
   "execution_count": null,
   "id": "3fff1a93",
   "metadata": {},
   "outputs": [],
   "source": [
    "q3 = data.Height.quantile(.75)\n",
    "q1 = data.Height.quantile(.25)\n",
    "iqr = q3 - q1\n",
    "\n",
    "print('Q1: {}' . format(q1))\n",
    "print('Q3: {}' . format(q3))\n",
    "print('IQR: {}' . format(iqr))\n",
    "\n",
    "upper = q3 + (1.5 * iqr)\n",
    "lower = q1 - (1.5 * iqr)\n",
    "print('Lower: {:.2f} \\nUpper: {:.2f}' . format(lower, upper))"
   ]
  },
  {
   "cell_type": "code",
   "execution_count": null,
   "id": "43dba376",
   "metadata": {},
   "outputs": [],
   "source": [
    "plt.axvline(x=q1, c='b', linestyle='--', linewidth=1) #\n",
    "plt.axvline(x=q3, c='g', linestyle='--', linewidth=1) #\n",
    "plt.axvline(x=lower, c='r', linestyle='--') #\n",
    "plt.axvline(x=upper, c='r', linestyle='--') #\n",
    "sns.boxplot(x=data.Height, width=0.4, palette='Set2')\n",
    "plt.show()"
   ]
  },
  {
   "cell_type": "markdown",
   "id": "b650acdc",
   "metadata": {},
   "source": [
    "## 2.2 กำจัดข้อมูลที่เลยขอบเขตบน และล่าง คอลัมน์ Height ครั้งที่ 1"
   ]
  },
  {
   "cell_type": "code",
   "execution_count": null,
   "id": "8c8abcc4",
   "metadata": {},
   "outputs": [],
   "source": [
    "filter_upper = data.Height > upper\n",
    "data.drop(data[filter_upper].index, inplace=True)\n",
    "\n",
    "filter_lower = data.Height < lower\n",
    "data.drop(data[filter_lower].index, inplace=True)"
   ]
  },
  {
   "cell_type": "markdown",
   "id": "8a8b508c",
   "metadata": {},
   "source": [
    "## 2.3 ค้นหาขอบเขตบน และขอบเขตล่าง คอลัมน์ Height ครั้งที่ 2"
   ]
  },
  {
   "cell_type": "code",
   "execution_count": null,
   "id": "a060aee3",
   "metadata": {},
   "outputs": [],
   "source": [
    "q3 = data.Height.quantile(.75)\n",
    "q1 = data.Height.quantile(.25)\n",
    "iqr = q3 - q1\n",
    "\n",
    "print('Q1: {}' . format(q1))\n",
    "print('Q3: {}' . format(q3))\n",
    "print('IQR: {}' . format(iqr))\n",
    "\n",
    "upper = q3 + (1.5 * iqr)\n",
    "lower = q1 - (1.5 * iqr)\n",
    "print('Lower: {:.2f} \\nUpper: {:.2f}' . format(lower, upper))\n",
    "\n",
    "plt.axvline(x=q1, c='b', linestyle='--', linewidth=1) #\n",
    "plt.axvline(x=q3, c='g', linestyle='--', linewidth=1) #\n",
    "plt.axvline(x=lower, c='r', linestyle='--') #\n",
    "plt.axvline(x=upper, c='r', linestyle='--') #\n",
    "sns.boxplot(x=data.Height, width=0.4, palette='Set2')\n",
    "plt.show()"
   ]
  },
  {
   "cell_type": "markdown",
   "id": "ab919380",
   "metadata": {},
   "source": [
    "# 2.4 Quize: จงแสดงวิธีหาค่าผิดปกติของคอลัมน์ Weight จากไฟล์ weight-height.csv "
   ]
  },
  {
   "cell_type": "code",
   "execution_count": null,
   "id": "56f356b9",
   "metadata": {},
   "outputs": [],
   "source": []
  },
  {
   "cell_type": "markdown",
   "id": "0d8422e0",
   "metadata": {},
   "source": [
    "# 3.ตัวอย่างการหาค่าผิดปกติด้วย Z-score"
   ]
  },
  {
   "cell_type": "code",
   "execution_count": null,
   "id": "ab1a44a9",
   "metadata": {},
   "outputs": [],
   "source": [
    "data = pd.read_csv('weight-height.csv', encoding='unicode_escape')\n",
    "data_backup = data.copy()"
   ]
  },
  {
   "cell_type": "code",
   "execution_count": null,
   "id": "818a6275",
   "metadata": {},
   "outputs": [],
   "source": [
    "data['Height_zscore'] = zscore(data.Height, ddof=0)\n",
    "f, axes = plt.subplots(1, 2, figsize=(10, 3))\n",
    "sns.histplot(x=data.Height, bins=20, ax=axes[0], color='r', kde=True, stat=\"density\")\n",
    "sns.histplot(x=data.Height_zscore, bins=20, ax=axes[1], color='r', kde=True, stat=\"density\")\n",
    "plt.show()\n",
    "\n",
    "diff = 2.5\n",
    "filter = np.abs(data.Height_zscore) <= diff\n",
    "data = data[filter]\n",
    "\n",
    "f, axes = plt.subplots(1, 2, figsize=(10, 3))\n",
    "sns.histplot(x=data.Height, bins=20, ax=axes[0], color='b', kde=True, stat=\"density\")\n",
    "sns.histplot(x=data.Height_zscore, bins=20, ax=axes[1], color='b', kde=True, stat=\"density\")\n",
    "plt.show()"
   ]
  },
  {
   "cell_type": "code",
   "execution_count": null,
   "id": "a13f4069",
   "metadata": {},
   "outputs": [],
   "source": [
    "data['Weight_zscore'] = zscore(data.Weight, ddof=0)\n",
    "\n",
    "f, axes = plt.subplots(1, 2, figsize=(10, 3))\n",
    "sns.histplot(x=data.Weight, bins=20, ax=axes[0], color='g', kde=True, stat=\"density\")\n",
    "sns.histplot(x=data.Weight_zscore, bins=20, ax=axes[1], color='g', kde=True, stat=\"density\")\n",
    "plt.show()\n",
    "\n",
    "diff = 2.5\n",
    "filter = np.abs(data.Weight_zscore) <= diff\n",
    "data = data[filter]\n",
    "\n",
    "f, axes = plt.subplots(1, 2, figsize=(10, 3))\n",
    "sns.histplot(x=data.Weight, bins=20, ax=axes[0], color='y', kde=True, stat=\"density\")\n",
    "sns.histplot(x=data.Weight_zscore, bins=20, ax=axes[1], color='y', kde=True, stat=\"density\")\n",
    "plt.show()"
   ]
  },
  {
   "cell_type": "markdown",
   "id": "0b28a8ff",
   "metadata": {},
   "source": [
    "# 4. ตัวอย่างการบันทึกไฟล์ CSV หรือ Excel ที่ถูกแก้ไขแล้ว"
   ]
  },
  {
   "cell_type": "code",
   "execution_count": null,
   "id": "8afc665c",
   "metadata": {},
   "outputs": [],
   "source": [
    "import pandas as pd\n",
    "import numpy as np\n",
    "%matplotlib inline\n",
    "import seaborn as sns\n",
    "import matplotlib.pyplot as plt\n",
    "from scipy.stats import zscore\n",
    "\n",
    "data = pd.read_csv('data_missing.csv')\n",
    "'''\n",
    "สมมุติว่าทำแก้ไขปัญหาต่างๆภายในไฟล์ครบทั้งหมดแล้ว\n",
    "'''\n",
    "data.to_csv('test.csv',index=False)\n",
    "data.to_excel('test.xlsx',index=False)"
   ]
  },
  {
   "cell_type": "markdown",
   "id": "69e3eecb",
   "metadata": {},
   "source": [
    "# 5. Quiz: ตรวจสอบข้อมูลทุก Features แล้วทำ Data Cleaning ทั้งหมด"
   ]
  },
  {
   "cell_type": "markdown",
   "id": "263597cc",
   "metadata": {},
   "source": [
    "## 5.1 คำอธิบายข้อมูล\n",
    "### card คือ สถานะการใช้งานบัตร\n",
    "### reports คือ จำนวนครั้งที่ถูกรายงานว่าผิดนัด\n",
    "### age คือ อายุของผู้ถือบัตร [แทนที่ค่าว่างด้วย Median]\n",
    "### income คือ รายได้ของผู้ถือบัตร [แทนที่ค่าว่างด้วย Mean]\n",
    "### share คือ ส่วนแบ่งค่านายหน้า [แทนที่ค่าว่างด้วย ค่าก่อนหน้า][ค่าไม่เกิน 1.0]\n",
    "### expenditure คือ รายจ่ายของผู้ถือบัตร [แทนที่ค่าว่างด้วย ค่าถัดไป]\n",
    "### owner คือ ผู้ถือบัตรเป็นเจ้าของกิจการหรือไม่\n",
    "### selfemp คือ ผู้ถือบัตรประกอบอาชีพอิสระหรือไม่\n",
    "### dependents คือ จำนวนผู้อยู่ในอุปการะ\n",
    "### months คือ จำนวนเดือน  [แทนที่ค่าว่างด้วย รหัสนักศึกษา 2 ตัวท้าย][ค่าไม่เกิน 500]\n",
    "### majorcards คือ ใช่ร่วมกับบัตรหลักหรือไม่\n",
    "### active คือ ระยะเวลาที่ใช้งานล่าสุด [แทนที่ข้อมูลด้วย รหัสนักศึกษา 2 ตัวท้าย]\n",
    "\n",
    "## 5.2 Export ออกมาเป็นไฟล์ csv หรือ xlsx ก็ได้โดยกำหนดชื่อเป็นรหัสนักศึกษา"
   ]
  },
  {
   "cell_type": "code",
   "execution_count": null,
   "id": "e8d80f99",
   "metadata": {},
   "outputs": [],
   "source": [
    "data = pd.read_csv('credit_card_data.csv', encoding='unicode_escape')\n",
    "data_backup = data.copy()\n",
    "print(data)\n",
    "print()\n",
    "print(data.describe())"
   ]
  },
  {
   "cell_type": "code",
   "execution_count": null,
   "id": "75f373fd",
   "metadata": {},
   "outputs": [],
   "source": [
    "data.dtypes"
   ]
  },
  {
   "cell_type": "code",
   "execution_count": null,
   "id": "a3d56baf",
   "metadata": {},
   "outputs": [],
   "source": [
    "data.isnull().any()"
   ]
  },
  {
   "cell_type": "code",
   "execution_count": null,
   "id": "c9fef8b9",
   "metadata": {},
   "outputs": [],
   "source": [
    "data.isnull().sum()"
   ]
  },
  {
   "cell_type": "markdown",
   "id": "3f659061",
   "metadata": {},
   "source": [
    "## age มีข้อมูลผิดชนิด, ข้อมูลหาย"
   ]
  },
  {
   "cell_type": "code",
   "execution_count": null,
   "id": "db19e589",
   "metadata": {},
   "outputs": [],
   "source": [
    "data['age'] = pd.to_numeric(data['age'], errors='coerce', downcast='integer')\n",
    "data['age'] = data['age'].fillna(data['age'].median())\n",
    "data['age']=data['age'].astype('int64')"
   ]
  },
  {
   "cell_type": "markdown",
   "id": "2c894740",
   "metadata": {},
   "source": [
    "## income ข้อมูลหาย"
   ]
  },
  {
   "cell_type": "code",
   "execution_count": null,
   "id": "d67bd08e",
   "metadata": {},
   "outputs": [],
   "source": [
    "data['income'] = data['income'].fillna(data['income'].mean())"
   ]
  },
  {
   "cell_type": "markdown",
   "id": "faa9a5e1",
   "metadata": {},
   "source": [
    "## share มีข้อมูลผิดชนิด, ข้อมูลหาย"
   ]
  },
  {
   "cell_type": "code",
   "execution_count": null,
   "id": "52972338",
   "metadata": {},
   "outputs": [],
   "source": [
    "data['share'] = pd.to_numeric(data['share'], errors='coerce', downcast='integer')\n",
    "data['share'].fillna(method='pad', inplace=True)\n",
    "data = data[data['share']<1.0]"
   ]
  },
  {
   "cell_type": "markdown",
   "id": "c308bf69",
   "metadata": {},
   "source": [
    "## expenditure\tมีข้อมูลผิดชนิด, ข้อมูลหาย"
   ]
  },
  {
   "cell_type": "code",
   "execution_count": null,
   "id": "3bb218aa",
   "metadata": {},
   "outputs": [],
   "source": [
    "data['expenditure'] = pd.to_numeric(data['expenditure'], errors='coerce', downcast='integer')\n",
    "data['expenditure'].fillna(method='bfill', inplace=True)"
   ]
  },
  {
   "cell_type": "markdown",
   "id": "d57dd649",
   "metadata": {},
   "source": [
    "## selfemp\tรูปแบบข้อมูลเกิน"
   ]
  },
  {
   "cell_type": "code",
   "execution_count": null,
   "id": "aef1ca2f",
   "metadata": {},
   "outputs": [],
   "source": [
    "data['selfemp'] = data['selfemp'].str.upper()\n",
    "data['selfemp'].replace('Y', 'YES',inplace=True)\n",
    "data['selfemp'].replace('N', 'NO',inplace=True)"
   ]
  },
  {
   "cell_type": "markdown",
   "id": "97e9333f",
   "metadata": {},
   "source": [
    "## dependents\tมีค่าติดลบ"
   ]
  },
  {
   "cell_type": "code",
   "execution_count": null,
   "id": "a1a3416f",
   "metadata": {},
   "outputs": [],
   "source": [
    "data = data[data['dependents']>0]"
   ]
  },
  {
   "cell_type": "markdown",
   "id": "f33ed736",
   "metadata": {},
   "source": [
    "## months มีข้อมูลผิดชนิด"
   ]
  },
  {
   "cell_type": "code",
   "execution_count": null,
   "id": "e7cc74b4",
   "metadata": {},
   "outputs": [],
   "source": [
    "data['months'] = pd.to_numeric(data['months'], errors='coerce', downcast='integer')\n",
    "data['months'] = data['months'].fillna(999)"
   ]
  },
  {
   "cell_type": "markdown",
   "id": "4906bf6b",
   "metadata": {},
   "source": [
    "## active มีข้อมูลผิดชนิด และ ค่าติดลบ"
   ]
  },
  {
   "cell_type": "code",
   "execution_count": null,
   "id": "a24f1429",
   "metadata": {},
   "outputs": [],
   "source": [
    "data['active'] = pd.to_numeric(data['active'], errors='coerce', downcast='integer')\n",
    "data['active'] = data['active'].fillna(-999)\n",
    "data = data[data['active']>0]"
   ]
  },
  {
   "cell_type": "markdown",
   "id": "8dfd48a4",
   "metadata": {},
   "source": [
    "## บันทึกไฟล์หลังจากทำการ Cleaning"
   ]
  },
  {
   "cell_type": "code",
   "execution_count": null,
   "id": "f9e2c793",
   "metadata": {},
   "outputs": [],
   "source": [
    "data.to_csv('A2Lab5Q5_รหัสนักศึกษา.csv',index=False)"
   ]
  },
  {
   "cell_type": "markdown",
   "id": "204bd579",
   "metadata": {},
   "source": [
    "# 6. Quiz: ตรวจสอบค่าผิดปกติของทุกคอลัมน์"
   ]
  },
  {
   "cell_type": "code",
   "execution_count": null,
   "id": "a36c5fb0",
   "metadata": {},
   "outputs": [],
   "source": [
    "data = pd.read_csv('A2Lab5Q5_รหัสนักศึกษา.csv')\n",
    "data_backup = data.copy()\n",
    "print(data)\n",
    "print('--------------------------------------')\n",
    "print(data.describe())"
   ]
  },
  {
   "cell_type": "markdown",
   "id": "fec78ce5",
   "metadata": {},
   "source": [
    "## IQR คอลัมน์ income"
   ]
  },
  {
   "cell_type": "code",
   "execution_count": null,
   "id": "acd76d38",
   "metadata": {},
   "outputs": [],
   "source": [
    "q3 = data.income.quantile(.75)\n",
    "q1 = data.income.quantile(.25)\n",
    "iqr = q3 - q1\n",
    "\n",
    "print('Q1: {}' . format(q1))\n",
    "print('Q3: {}' . format(q3))\n",
    "print('IQR: {}' . format(iqr))\n",
    "\n",
    "upper = q3 + (1.5 * iqr)\n",
    "lower = q1 - (1.5 * iqr)\n",
    "print('Lower: {:.2f} \\nUpper: {:.2f}' . format(lower, upper))"
   ]
  },
  {
   "cell_type": "markdown",
   "id": "b80baa4a",
   "metadata": {},
   "source": [
    "## Boxplot คอลัมน์ income"
   ]
  },
  {
   "cell_type": "code",
   "execution_count": null,
   "id": "03e838f5",
   "metadata": {},
   "outputs": [],
   "source": []
  }
 ],
 "metadata": {
  "kernelspec": {
   "display_name": "Python 3",
   "language": "python",
   "name": "python3"
  },
  "language_info": {
   "codemirror_mode": {
    "name": "ipython",
    "version": 3
   },
   "file_extension": ".py",
   "mimetype": "text/x-python",
   "name": "python",
   "nbconvert_exporter": "python",
   "pygments_lexer": "ipython3",
   "version": "3.8.8"
  }
 },
 "nbformat": 4,
 "nbformat_minor": 5
}
