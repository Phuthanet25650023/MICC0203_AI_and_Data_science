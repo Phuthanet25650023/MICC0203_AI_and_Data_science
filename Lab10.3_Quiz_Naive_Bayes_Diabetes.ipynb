{
 "cells": [
  {
   "cell_type": "markdown",
   "metadata": {},
   "source": [
    "# 0. Import Library"
   ]
  },
  {
   "cell_type": "code",
   "execution_count": 8,
   "metadata": {},
   "outputs": [],
   "source": [
    "import matplotlib.pyplot as plt\n",
    "%matplotlib inline\n",
    "import numpy as np\n",
    "import pandas as pd\n",
    "import seaborn as sns\n",
    "from sklearn.preprocessing import LabelEncoder\n",
    "import scipy.stats"
   ]
  },
  {
   "cell_type": "markdown",
   "metadata": {},
   "source": [
    "![](https://onlinelibrary.wiley.com/cms/asset/ea1d3bd8-afd7-4914-b645-74d424b6690d/advs3654-fig-0002-m.jpg)"
   ]
  },
  {
   "cell_type": "markdown",
   "metadata": {},
   "source": [
    "# 1. Input Data"
   ]
  },
  {
   "cell_type": "code",
   "execution_count": 9,
   "metadata": {},
   "outputs": [],
   "source": [
    "#อ่านไฟล์ diabetes.csv\n",
    "df = pd.read_csv('data/diabetes.csv')"
   ]
  },
  {
   "cell_type": "markdown",
   "metadata": {},
   "source": [
    "# 2. Data Preprocessing"
   ]
  },
  {
   "cell_type": "markdown",
   "metadata": {},
   "source": [
    "## 2.1 Exploratory Data Analysis (EDA)"
   ]
  },
  {
   "cell_type": "code",
   "execution_count": 10,
   "metadata": {},
   "outputs": [
    {
     "name": "stdout",
     "output_type": "stream",
     "text": [
      "  Pregnancies  Glucose  BloodPressure  SkinThickness  Insulin   BMI  \\\n",
      "0           6      148             72             35        0  33.6   \n",
      "1           1       85             66             29        0  26.6   \n",
      "2           8      183             64              0        0  23.3   \n",
      "3           1       89             66             23       94  28.1   \n",
      "4          no      137              4             35      168  43.1   \n",
      "\n",
      "   DiabetesPedigreeFunction  Age       Outcome  \n",
      "0                     0.627    5      diabetic  \n",
      "1                     0.351   31  non-diabetic  \n",
      "2                     0.672   32      diabetic  \n",
      "3                     0.167   21  non-diabetic  \n",
      "4                     2.288   33      diabetic  \n",
      "**************************************************\n",
      "(768, 9)\n",
      "**************************************************\n",
      "          Glucose  BloodPressure  SkinThickness       Insulin         BMI  \\\n",
      "count  768.000000     768.000000     768.000000    768.000000  757.000000   \n",
      "mean    98.664062      53.167969      18.227865     86.757812   29.865654   \n",
      "std     55.513759      31.419136      16.062018    905.570972   10.686049   \n",
      "min      0.000000       0.000000       0.000000      0.000000    2.000000   \n",
      "25%     71.000000       9.000000       0.000000      0.000000   25.400000   \n",
      "50%    113.000000      66.000000      19.000000      2.500000   32.000000   \n",
      "75%    138.000000      76.000000      32.000000     74.000000   36.100000   \n",
      "max    199.000000     122.000000      99.000000  25000.000000   67.100000   \n",
      "\n",
      "       DiabetesPedigreeFunction         Age  \n",
      "count                768.000000  768.000000  \n",
      "mean                   0.490439   30.990885  \n",
      "std                    0.346050   13.281475  \n",
      "min                    0.100000    3.000000  \n",
      "25%                    0.253750   23.000000  \n",
      "50%                    0.382500   28.000000  \n",
      "75%                    0.647500   38.250000  \n",
      "max                    2.420000   81.000000  \n",
      "**************************************************\n",
      "Pregnancies                  object\n",
      "Glucose                       int64\n",
      "BloodPressure                 int64\n",
      "SkinThickness                 int64\n",
      "Insulin                       int64\n",
      "BMI                         float64\n",
      "DiabetesPedigreeFunction    float64\n",
      "Age                           int64\n",
      "Outcome                      object\n",
      "dtype: object\n",
      "**************************************************\n",
      "Pregnancies                  0\n",
      "Glucose                      0\n",
      "BloodPressure                0\n",
      "SkinThickness                0\n",
      "Insulin                      0\n",
      "BMI                         11\n",
      "DiabetesPedigreeFunction     0\n",
      "Age                          0\n",
      "Outcome                      0\n",
      "dtype: int64\n"
     ]
    }
   ],
   "source": [
    "#สำรวจข้อมูลเบื้องต้นโดย\n",
    "#- 1. สำรวจตัวอย่างของข้อมูลโดยใช้ head() / tail() / sample()\n",
    "#- 2. ตรวจสอบขนาดของ DataFrame โดยใช้ shape\n",
    "#- 3. ตรวจสอบค่าทางสถิติต่างๆ โดยใช้ describe()\n",
    "#- 4. ตรวจสอบชนิดข้อมูลของทุกคอลัมน์ โดยใช้ dtypes\n",
    "print(df.head())\n",
    "print(\"*\"*50)\n",
    "print(df.shape)\n",
    "print(\"*\"*50)\n",
    "print(df.describe())\n",
    "print(\"*\"*50)\n",
    "print(df.dtypes)\n",
    "print(\"*\"*50)\n",
    "print(df.isnull().sum())"
   ]
  },
  {
   "cell_type": "markdown",
   "metadata": {},
   "source": [
    "## 2.2 Data Cleaning"
   ]
  },
  {
   "cell_type": "code",
   "execution_count": 11,
   "metadata": {},
   "outputs": [
    {
     "name": "stdout",
     "output_type": "stream",
     "text": [
      "Pregnancies                 0\n",
      "Glucose                     0\n",
      "BloodPressure               0\n",
      "SkinThickness               0\n",
      "Insulin                     0\n",
      "BMI                         0\n",
      "DiabetesPedigreeFunction    0\n",
      "Age                         0\n",
      "Outcome                     0\n",
      "dtype: int64\n"
     ]
    }
   ],
   "source": [
    "#ทำความสะอาดข้อมูล\n",
    "#- 1. Missing Value\n",
    "df['BMI']=df['BMI'].fillna(df['BMI'].mean())\n",
    "#- 1.1 ทำการตรวจสอบโดยใช้ isnull().any() หรือ isnull().sum()\n",
    "print(df.isnull().sum())\n",
    "#- 1.2 ถ้าพบว่ามีข้อมูลสูญหาย ให้ทำการเลือกวิธีการแก้ปัญหาสำหรับข้อมูลที่หายไป เช่น การหาค่ามาแทนที่ หรือ การลบข้อมูลที่มีปัญหาออกไป\n",
    "#- 2. Inconsistent Data \n",
    "#- 2.1 ทำการตรวจสอบ Inconsistent Data โดยใช้ df.groupby('........')['........'].count()\n",
    "#- 2.2 ถ้าพบว่ามี Inconsistent Data ให้ทำการแก้ไขโดยใช้ฟังก์ชัน to_numeric แล้วหาค่ามาแทนที่\n",
    "#- 3. Outlier ตรวจสอบ เฉพาะ Insulin"
   ]
  },
  {
   "cell_type": "markdown",
   "metadata": {},
   "source": [
    "### - Missing Value"
   ]
  },
  {
   "cell_type": "code",
   "execution_count": null,
   "metadata": {},
   "outputs": [],
   "source": []
  },
  {
   "cell_type": "markdown",
   "metadata": {},
   "source": [
    "### - Inconsistent Data"
   ]
  },
  {
   "cell_type": "code",
   "execution_count": null,
   "metadata": {},
   "outputs": [],
   "source": []
  },
  {
   "cell_type": "markdown",
   "metadata": {},
   "source": [
    "### - Outliers"
   ]
  },
  {
   "cell_type": "code",
   "execution_count": null,
   "metadata": {},
   "outputs": [],
   "source": []
  },
  {
   "cell_type": "markdown",
   "metadata": {},
   "source": [
    "## 2.3 Data Transformation"
   ]
  },
  {
   "cell_type": "code",
   "execution_count": 15,
   "metadata": {},
   "outputs": [
    {
     "name": "stdout",
     "output_type": "stream",
     "text": [
      "    Pregnancies  Glucose  BloodPressure  SkinThickness  Insulin        BMI  \\\n",
      "591           2      112             78              5       14  39.400000   \n",
      "642           6      147              8              0        0  29.500000   \n",
      "426          no       94              0              0        0  29.865654   \n",
      "285           7      136             74             26      135  26.000000   \n",
      "42            7       16             92             18        0  22.700000   \n",
      "205           5      111             72             28        0  23.900000   \n",
      "199           4      148              6             27      318   3.900000   \n",
      "116           5      124             74              0        0  34.000000   \n",
      "589          no       73              0              0        0  21.100000   \n",
      "7             1      115              0              0        0  35.300000   \n",
      "601           6       96              0              0        0  23.700000   \n",
      "291          no       17             62              3       74  36.600000   \n",
      "334           1       95              6             18       58  23.900000   \n",
      "4            no      137              4             35      168  43.100000   \n",
      "756           7      137              9             41        0  32.000000   \n",
      "\n",
      "     DiabetesPedigreeFunction  Age       Outcome  Outcome_Encoded  \n",
      "591                     0.175   24  non-diabetic                1  \n",
      "642                     0.178    5      diabetic                0  \n",
      "426                     0.256   25  non-diabetic                1  \n",
      "285                     0.647   51  non-diabetic                1  \n",
      "42                      0.235   48  non-diabetic                1  \n",
      "205                     0.470   27  non-diabetic                1  \n",
      "199                     0.150   29      diabetic                0  \n",
      "116                     0.220   38      diabetic                0  \n",
      "589                     0.342   25  non-diabetic                1  \n",
      "7                       0.134   29  non-diabetic                1  \n",
      "601                     0.190   28  non-diabetic                1  \n",
      "291                     0.757   25      diabetic                0  \n",
      "334                     0.260   22  non-diabetic                1  \n",
      "4                       2.288   33      diabetic                0  \n",
      "756                     0.391   39  non-diabetic                1  \n",
      "Outcome\n",
      "  ['diabetic' 'non-diabetic']\n",
      "  [0 1]\n",
      "------------------------------\n"
     ]
    }
   ],
   "source": [
    "#ทำ Data Transformation โดยใช้ LabelEncoder\n",
    "def labelEncode(data, columns):\n",
    "    columns_ = []\n",
    "    for i in columns:\n",
    "        lb = LabelEncoder()\n",
    "        lb_ = lb.fit_transform(data[i].astype(str))\n",
    "        data[i+'_Encoded']=lb_\n",
    "        columns_.append(i+'_Encoded')\n",
    "    return columns_,lb\n",
    "\n",
    "columns = ['Outcome']\n",
    "enc_columns, lb=labelEncode(df, columns)\n",
    "\n",
    "print (df.sample(15))\n",
    "\n",
    "for i in enc_columns:\n",
    "    print(i[:-8])\n",
    "    print(' ',df[i[:-8]].unique())\n",
    "    print(' ',df[i].unique())\n",
    "    print('--'*15)"
   ]
  },
  {
   "cell_type": "markdown",
   "metadata": {},
   "source": [
    "## [Optional] Export เป็นไฟล์เมื่อทำ Data Cleaning เสร็จแล้ว"
   ]
  },
  {
   "cell_type": "code",
   "execution_count": 17,
   "metadata": {},
   "outputs": [
    {
     "data": {
      "image/png": "[encoded data removed]",
      "text/plain": [
       "<Figure size 720x504 with 2 Axes>"
      ]
     },
     "metadata": {
      "needs_background": "light"
     },
     "output_type": "display_data"
    }
   ],
   "source": [
    "plt.rcParams['figure.figsize'] = 10,7 \n",
    "sns.heatmap(df.corr(), annot=True);"
   ]
  },
  {
   "cell_type": "markdown",
   "metadata": {},
   "source": [
    "## 2.4 ตรวจสอบค่าสหสัมพันธ์ของตัวแปร x, y"
   ]
  },
  {
   "cell_type": "code",
   "execution_count": null,
   "metadata": {},
   "outputs": [],
   "source": [
    "#ดูค่าสหสัมพันธ์ของข้อมูล"
   ]
  },
  {
   "cell_type": "markdown",
   "metadata": {},
   "source": [
    "## 2.5 การกำหนด Feature / Target"
   ]
  },
  {
   "cell_type": "code",
   "execution_count": null,
   "metadata": {},
   "outputs": [],
   "source": [
    "#แยกเป็นตัวแปรที่เป็นข้อมูล feature (X) และ คำตอบ target (Y)\n",
    "#feature คือ 'Pregnancies', 'Glucose', 'BloodPressure', 'SkinThickness', 'Insulin','BMI','DiabetesPedigreeFunction','Age'\n",
    "#target คือ Outcome\n",
    "DataMatrix = df.values\n",
    "DataMatrix.shape\n"
   ]
  },
  {
   "cell_type": "markdown",
   "metadata": {},
   "source": [
    "## 2.6 Data Preparation (แบ่งข้อมูลสำหรับ Training / Testing)"
   ]
  },
  {
   "cell_type": "code",
   "execution_count": null,
   "metadata": {},
   "outputs": [],
   "source": [
    "#แบ่งข้อมูลสำหรับ Testing 40% และที่เหลือเอาไว้ใช้สำหรับ Training"
   ]
  },
  {
   "cell_type": "markdown",
   "metadata": {},
   "source": [
    "# 3. Modelling: Naive Bayes"
   ]
  },
  {
   "cell_type": "code",
   "execution_count": null,
   "metadata": {},
   "outputs": [],
   "source": [
    "#- Training Process\n",
    "#1. เทรนข้อมูลและสร้างโมเดล\n",
    "#2. วัดคะแนนของโมเดลโดยใช้ score()\n",
    "#- Testing Process\n",
    "#1. นำโมเดลที่สร้างมาทำการพยากรณ์ข้อมูลสำหรับการทดสอบโดยใช้ predict()"
   ]
  },
  {
   "cell_type": "markdown",
   "metadata": {},
   "source": [
    "## 3.1 Training Process"
   ]
  },
  {
   "cell_type": "code",
   "execution_count": null,
   "metadata": {},
   "outputs": [],
   "source": []
  },
  {
   "cell_type": "markdown",
   "metadata": {},
   "source": [
    "## 3.2 Testing Process"
   ]
  },
  {
   "cell_type": "code",
   "execution_count": null,
   "metadata": {},
   "outputs": [],
   "source": []
  },
  {
   "cell_type": "markdown",
   "metadata": {},
   "source": [
    "# 4. Model Evaluation"
   ]
  },
  {
   "cell_type": "code",
   "execution_count": null,
   "metadata": {},
   "outputs": [],
   "source": [
    "#ประเมินประสิทธิภาพของโมเดล\n",
    "# 1. สำหรับ Split Test ใช้ confusion matrix และแสดง accuracy, precision, recall, f1-score\n",
    "# 2. ประเมินผลโมเดลโดยใช้ Cross Validation Test "
   ]
  },
  {
   "cell_type": "markdown",
   "metadata": {},
   "source": [
    "## 4.1 Split Test"
   ]
  },
  {
   "cell_type": "code",
   "execution_count": null,
   "metadata": {},
   "outputs": [],
   "source": []
  },
  {
   "cell_type": "markdown",
   "metadata": {},
   "source": [
    "## 4.2 Cross Validation Test"
   ]
  },
  {
   "cell_type": "code",
   "execution_count": null,
   "metadata": {},
   "outputs": [],
   "source": []
  },
  {
   "cell_type": "markdown",
   "metadata": {},
   "source": [
    "# [Optional] Save Machine Learning Models"
   ]
  },
  {
   "cell_type": "code",
   "execution_count": null,
   "metadata": {},
   "outputs": [],
   "source": [
    "#Save เป็นชื่อรหัสนักศึกษา.sav โดยใช้ joblib หรือ pickle"
   ]
  }
 ],
 "metadata": {
  "kernelspec": {
   "display_name": "Python 3",
   "language": "python",
   "name": "python3"
  },
  "language_info": {
   "codemirror_mode": {
    "name": "ipython",
    "version": 3
   },
   "file_extension": ".py",
   "mimetype": "text/x-python",
   "name": "python",
   "nbconvert_exporter": "python",
   "pygments_lexer": "ipython3",
   "version": "3.8.8"
  }
 },
 "nbformat": 4,
 "nbformat_minor": 2
}
