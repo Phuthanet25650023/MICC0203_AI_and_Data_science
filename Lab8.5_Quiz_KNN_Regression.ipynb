{
 "cells": [
  {
   "cell_type": "markdown",
   "metadata": {},
   "source": [
    "# 0. Import Library"
   ]
  },
  {
   "cell_type": "code",
   "execution_count": null,
   "metadata": {},
   "outputs": [],
   "source": [
    "import matplotlib.pyplot as plt\n",
    "%matplotlib inline\n",
    "import numpy as np\n",
    "import pandas as pd\n",
    "import seaborn as sns\n",
    "\n",
    "import scipy.stats"
   ]
  },
  {
   "cell_type": "markdown",
   "metadata": {},
   "source": [
    "![](https://onlinelibrary.wiley.com/cms/asset/ea1d3bd8-afd7-4914-b645-74d424b6690d/advs3654-fig-0002-m.jpg)"
   ]
  },
  {
   "cell_type": "markdown",
   "metadata": {},
   "source": [
    "# 1. Input Data"
   ]
  },
  {
   "cell_type": "code",
   "execution_count": null,
   "metadata": {},
   "outputs": [],
   "source": [
    "#อ่านไฟล์ car_price.csv"
   ]
  },
  {
   "cell_type": "markdown",
   "metadata": {},
   "source": [
    "# 2. Data Preprocessing"
   ]
  },
  {
   "cell_type": "markdown",
   "metadata": {},
   "source": [
    "## 2.1 Exploratory Data Analysis (EDA)"
   ]
  },
  {
   "cell_type": "code",
   "execution_count": null,
   "metadata": {},
   "outputs": [],
   "source": [
    "#สำรวจข้อมูลเบื้องต้นโดย\n",
    "#- 1. สำรวจตัวอย่างของข้อมูลโดยใช้ head() / tail() / sample()\n",
    "#- 2. ตรวจสอบขนาดของ DataFrame โดยใช้ shape\n",
    "#- 3. ตรวจสอบค่าทางสถิติต่างๆ โดยใช้ describe()\n",
    "#- 4. ตรวจสอบชนิดข้อมูลของทุกคอลัมน์ โดยใช้ dtypes"
   ]
  },
  {
   "cell_type": "markdown",
   "metadata": {},
   "source": [
    "## 2.2 Data Cleaning"
   ]
  },
  {
   "cell_type": "code",
   "execution_count": null,
   "metadata": {},
   "outputs": [],
   "source": [
    "#ทำความสะอาดข้อมูล\n",
    "#- 1. Missing Value\n",
    "#- 1.1 ทำการตรวจสอบโดยใช้ isnull().any() หรือ isnull().sum()\n",
    "#- 1.2 ถ้าพบว่ามีข้อมูลสูญหาย ให้ทำการเลือกวิธีการแก้ปัญหาสำหรับข้อมูลที่หายไป เช่น การหาค่ามาแทนที่ หรือ การลบข้อมูลที่มีปัญหาออกไป\n",
    "#- 2. Inconsistent Data \n",
    "#- 2.1 ทำการตรวจสอบ Inconsistent Data โดยใช้ df.groupby('........')['........'].count()\n",
    "#- 2.2 ถ้าพบว่ามี Inconsistent Data ให้ทำการแก้ไขโดยใช้ฟังก์ชัน to_numeric ตัวอย่างเช่น df['......'] = pd.to_numeric(df['......'], errors='coerce', downcast='integer') แล้วหาค่ามาแทนที่\n",
    "#- 3. Outlier ไม่ต้องตรวจสอบ"
   ]
  },
  {
   "cell_type": "markdown",
   "metadata": {},
   "source": [
    "### - Missing Value"
   ]
  },
  {
   "cell_type": "code",
   "execution_count": null,
   "metadata": {
    "scrolled": true
   },
   "outputs": [],
   "source": []
  },
  {
   "cell_type": "markdown",
   "metadata": {},
   "source": [
    "### - Inconsistent Data"
   ]
  },
  {
   "cell_type": "code",
   "execution_count": null,
   "metadata": {},
   "outputs": [],
   "source": []
  },
  {
   "cell_type": "markdown",
   "metadata": {},
   "source": [
    "### - Outliers"
   ]
  },
  {
   "cell_type": "markdown",
   "metadata": {},
   "source": [
    "## 2.3 Data Transformation"
   ]
  },
  {
   "cell_type": "code",
   "execution_count": null,
   "metadata": {},
   "outputs": [],
   "source": [
    "#ทำ Data Transformation โดยใช้ LabelEncoder"
   ]
  },
  {
   "cell_type": "code",
   "execution_count": null,
   "metadata": {},
   "outputs": [],
   "source": []
  },
  {
   "cell_type": "markdown",
   "metadata": {},
   "source": [
    "## [Optional] Export เป็นไฟล์เมื่อทำ Data Cleaning เสร็จแล้ว"
   ]
  },
  {
   "cell_type": "code",
   "execution_count": null,
   "metadata": {
    "scrolled": false
   },
   "outputs": [],
   "source": [
    "#ไม่ต้อง Export"
   ]
  },
  {
   "cell_type": "markdown",
   "metadata": {},
   "source": [
    "## 2.4 ตรวจสอบค่าสหสัมพันธ์ของตัวแปร x, y"
   ]
  },
  {
   "cell_type": "code",
   "execution_count": null,
   "metadata": {},
   "outputs": [],
   "source": [
    "#ดูค่าสหสัมพันธ์ของข้อมูล"
   ]
  },
  {
   "cell_type": "markdown",
   "metadata": {},
   "source": [
    "## 2.5 การกำหนด Feature / Target"
   ]
  },
  {
   "cell_type": "code",
   "execution_count": null,
   "metadata": {},
   "outputs": [],
   "source": [
    "#แยกเป็นตัวแปรที่เป็นข้อมูล feature (X) และ คำตอบ target (Y)\n",
    "#feature คือ 'year', 'km_driven', 'fuel', 'seller_type','transmission','owner'\n",
    "#target คือ selling_price"
   ]
  },
  {
   "cell_type": "markdown",
   "metadata": {},
   "source": [
    "## 2.6 Data Preparation (แบ่งข้อมูลสำหรับ Training / Testing)"
   ]
  },
  {
   "cell_type": "code",
   "execution_count": null,
   "metadata": {},
   "outputs": [],
   "source": [
    "#แบ่งข้อมูลสำหรับ Testing 30% และที่เหลือเอาไว้ใช้สำหรับ Training"
   ]
  },
  {
   "cell_type": "markdown",
   "metadata": {},
   "source": [
    "# 3. Modelling: k-Nearest Neighbors"
   ]
  },
  {
   "cell_type": "code",
   "execution_count": null,
   "metadata": {},
   "outputs": [],
   "source": [
    "#- Training Data\n",
    "#1. เทรนข้อมูลและสร้างโมเดล\n",
    "#2. วัดคะแนนของโมเดลโดยใช้ score()\n",
    "#- Predict Data\n",
    "#1. นำโมเดลที่สร้างมาทำการพยากรณ์คำตอบ predict()"
   ]
  },
  {
   "cell_type": "markdown",
   "metadata": {},
   "source": [
    "## 3.1 Training Data"
   ]
  },
  {
   "cell_type": "code",
   "execution_count": null,
   "metadata": {},
   "outputs": [],
   "source": []
  },
  {
   "cell_type": "markdown",
   "metadata": {},
   "source": [
    "## 3.2 Predict Data"
   ]
  },
  {
   "cell_type": "code",
   "execution_count": null,
   "metadata": {},
   "outputs": [],
   "source": []
  },
  {
   "cell_type": "markdown",
   "metadata": {},
   "source": [
    "# 4. Model Evaluation"
   ]
  },
  {
   "cell_type": "code",
   "execution_count": null,
   "metadata": {},
   "outputs": [],
   "source": [
    "#ประเมินประสิทธิภาพของโมเดล r2 Score, MSE และ MAE"
   ]
  },
  {
   "cell_type": "code",
   "execution_count": null,
   "metadata": {},
   "outputs": [],
   "source": []
  },
  {
   "cell_type": "markdown",
   "metadata": {},
   "source": [
    "# [Optional] Save Machine Learning Models"
   ]
  },
  {
   "cell_type": "code",
   "execution_count": null,
   "metadata": {},
   "outputs": [],
   "source": [
    "#Save เป็นชื่อรหัสนักศึกษา.sav โดยใช้ joblib หรือ pickle"
   ]
  }
 ],
 "metadata": {
  "kernelspec": {
   "display_name": "Python 3 (ipykernel)",
   "language": "python",
   "name": "python3"
  },
  "language_info": {
   "codemirror_mode": {
    "name": "ipython",
    "version": 3
   },
   "file_extension": ".py",
   "mimetype": "text/x-python",
   "name": "python",
   "nbconvert_exporter": "python",
   "pygments_lexer": "ipython3",
   "version": "3.9.12"
  }
 },
 "nbformat": 4,
 "nbformat_minor": 2
}
