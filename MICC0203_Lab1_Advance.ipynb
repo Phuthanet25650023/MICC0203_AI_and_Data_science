{
 "cells": [
  {
   "cell_type": "code",
   "execution_count": null,
   "id": "68ccbd0c",
   "metadata": {},
   "outputs": [],
   "source": [
    "import numpy as np"
   ]
  },
  {
   "cell_type": "code",
   "execution_count": null,
   "id": "6f5ba5d5",
   "metadata": {},
   "outputs": [],
   "source": [
    "arr = np.array([1, 2, 3, 4, 5])\n",
    "print(arr)"
   ]
  },
  {
   "cell_type": "code",
   "execution_count": null,
   "id": "06c3ac86",
   "metadata": {},
   "outputs": [],
   "source": [
    "arr = np.array([[1, 2, 3], [4, 5, 6]])\n",
    "print(arr)"
   ]
  },
  {
   "cell_type": "code",
   "execution_count": null,
   "id": "1e1cf05b",
   "metadata": {},
   "outputs": [],
   "source": [
    "arr = np.arange(1, 10, 2)\n",
    "print(arr)"
   ]
  },
  {
   "cell_type": "code",
   "execution_count": null,
   "id": "3a446447",
   "metadata": {},
   "outputs": [],
   "source": [
    "arr = np.array([1, 2, 3, 4, 5, 6])\n",
    "reshaped_arr = arr.reshape(2, 3)\n",
    "print(reshaped_arr)"
   ]
  },
  {
   "cell_type": "code",
   "execution_count": null,
   "id": "f3170f89",
   "metadata": {},
   "outputs": [],
   "source": [
    "a = np.array([1, 2, 3])\n",
    "b = np.array([4, 5, 6])\n",
    "c = a + b\n",
    "print(c)"
   ]
  },
  {
   "cell_type": "code",
   "execution_count": null,
   "id": "632e8566",
   "metadata": {},
   "outputs": [],
   "source": [
    "arr = np.array([1, 2, 3, 4, 5, 6])\n",
    "mean = np.mean(arr)\n",
    "median = np.median(arr)\n",
    "std = np.std(arr)\n",
    "print(mean, median, std)"
   ]
  },
  {
   "cell_type": "code",
   "execution_count": null,
   "id": "ff4ed62a",
   "metadata": {},
   "outputs": [],
   "source": [
    "arr = np.array([[1, 2, 3], [4, 5, 6]])\n",
    "transposed_arr = np.transpose(arr)\n",
    "print(transposed_arr)"
   ]
  },
  {
   "cell_type": "code",
   "execution_count": null,
   "id": "418af6ec",
   "metadata": {},
   "outputs": [],
   "source": [
    "arr = np.array([0, np.pi / 2, np.pi])\n",
    "sin_arr = np.sin(arr)\n",
    "cos_arr = np.cos(arr)\n",
    "print(sin_arr)\n",
    "print(cos_arr)"
   ]
  },
  {
   "cell_type": "code",
   "execution_count": null,
   "id": "7c7701d5",
   "metadata": {},
   "outputs": [],
   "source": [
    "arr = np.array([3, 1, 7, 2, 9, 4])\n",
    "max_val = np.max(arr)\n",
    "min_val = np.min(arr)\n",
    "print(max_val, min_val)"
   ]
  },
  {
   "cell_type": "code",
   "execution_count": null,
   "id": "baf31584",
   "metadata": {},
   "outputs": [],
   "source": [
    "import numpy as np\n",
    "\n",
    "# Create a 1D array\n",
    "arr = np.arange(10)\n",
    "\n",
    "# Reshape the array into a 2D matrix\n",
    "reshaped_arr = arr.reshape(2, 5)\n",
    "\n",
    "print(reshaped_arr)"
   ]
  },
  {
   "cell_type": "code",
   "execution_count": null,
   "id": "4bd37913",
   "metadata": {},
   "outputs": [],
   "source": [
    "import numpy as np\n",
    "\n",
    "# Create two arrays\n",
    "arr1 = np.array([1, 2, 3, 4])\n",
    "arr2 = np.array([5, 6, 7, 8])\n",
    "\n",
    "# Add the arrays element-wise\n",
    "result = np.add(arr1, arr2)\n",
    "\n",
    "print(result)"
   ]
  },
  {
   "cell_type": "code",
   "execution_count": null,
   "id": "f209807f",
   "metadata": {},
   "outputs": [],
   "source": [
    "import numpy as np\n",
    "\n",
    "# Create a 2D array\n",
    "arr = np.array([[1, 2, 3], [4, 5, 6]])\n",
    "\n",
    "# Add a scalar value to each element\n",
    "result = arr + 10\n",
    "\n",
    "print(result)"
   ]
  },
  {
   "cell_type": "code",
   "execution_count": null,
   "id": "94c49c28",
   "metadata": {},
   "outputs": [],
   "source": [
    "import numpy as np\n",
    "\n",
    "# Create a 2D array\n",
    "arr = np.array([[1, 2, 3], [4, 5, 6], [7, 8, 9]])\n",
    "\n",
    "# Access a specific element\n",
    "print(arr[1, 2])\n",
    "\n",
    "# Slice a portion of the array\n",
    "print(arr[:2, 1:])"
   ]
  },
  {
   "cell_type": "code",
   "execution_count": null,
   "id": "5d80a5a8",
   "metadata": {},
   "outputs": [],
   "source": [
    "import numpy as np\n",
    "\n",
    "# Create a 1D array\n",
    "arr = np.array([1, 2, 3, 4, 5])\n",
    "\n",
    "# Compute the mean, standard deviation, and sum\n",
    "mean = np.mean(arr)\n",
    "std = np.std(arr)\n",
    "total = np.sum(arr)\n",
    "\n",
    "print(\"Mean:\", mean)\n",
    "print(\"Standard Deviation:\", std)\n",
    "print(\"Sum:\", total)"
   ]
  },
  {
   "cell_type": "code",
   "execution_count": null,
   "id": "5b5e3e5b",
   "metadata": {},
   "outputs": [],
   "source": [
    "import statistics\n",
    "\n",
    "# Example data\n",
    "data = [4, 8, 6, 2, 9, 5, 3, 1, 7, 10]\n",
    "\n",
    "# Mean\n",
    "mean = statistics.mean(data)\n",
    "print(\"Mean:\", mean)\n",
    "\n",
    "# Median\n",
    "median = statistics.median(data)\n",
    "print(\"Median:\", median)\n",
    "\n",
    "# Mode\n",
    "mode = statistics.mode(data)\n",
    "print(\"Mode:\", mode)\n",
    "\n",
    "# Variance\n",
    "variance = statistics.variance(data)\n",
    "print(\"Variance:\", variance)\n",
    "\n",
    "# Standard deviation\n",
    "stdev = statistics.stdev(data)\n",
    "print(\"Standard Deviation:\", stdev)\n",
    "\n",
    "# Range\n",
    "data_range = max(data) - min(data)\n",
    "print(\"Range:\", data_range)\n",
    "\n",
    "# Quartiles\n",
    "q1 = statistics.quantiles(data, n=4)[0]\n",
    "q3 = statistics.quantiles(data, n=4)[2]\n",
    "print(\"Q1:\", q1)\n",
    "print(\"Q3:\", q3)\n",
    "\n",
    "# Interquartile range\n",
    "iqr = q3 - q1\n",
    "print(\"Interquartile Range:\", iqr)\n",
    "\n",
    "# Outliers\n",
    "outliers = []\n",
    "for num in data:\n",
    "    if num < q1 - 1.5 * iqr or num > q3 + 1.5 * iqr:\n",
    "        outliers.append(num)\n",
    "print(\"Outliers:\", outliers)"
   ]
  },
  {
   "cell_type": "code",
   "execution_count": null,
   "id": "b2151af1",
   "metadata": {},
   "outputs": [],
   "source": []
  }
 ],
 "metadata": {
  "kernelspec": {
   "display_name": "Python 3",
   "language": "python",
   "name": "python3"
  },
  "language_info": {
   "codemirror_mode": {
    "name": "ipython",
    "version": 3
   },
   "file_extension": ".py",
   "mimetype": "text/x-python",
   "name": "python",
   "nbconvert_exporter": "python",
   "pygments_lexer": "ipython3",
   "version": "3.8.8"
  }
 },
 "nbformat": 4,
 "nbformat_minor": 5
}
