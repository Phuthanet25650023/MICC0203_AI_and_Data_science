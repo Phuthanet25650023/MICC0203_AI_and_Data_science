{
 "cells": [
  {
   "cell_type": "markdown",
   "id": "06b19cbb",
   "metadata": {},
   "source": [
    "# 1. ค่าทางสถิติ"
   ]
  },
  {
   "cell_type": "code",
   "execution_count": null,
   "id": "3ab15e3e",
   "metadata": {},
   "outputs": [],
   "source": [
    "import pandas as pd\n",
    "\n",
    "datas = [4.5, 3.5, 2, 3, 2, 1.5, 2.5, 2, 5, 4]\n",
    "ds = pd.Series(datas)"
   ]
  },
  {
   "cell_type": "code",
   "execution_count": null,
   "id": "a296eb7a",
   "metadata": {},
   "outputs": [],
   "source": [
    "ds.values"
   ]
  },
  {
   "cell_type": "markdown",
   "id": "c04d98cb",
   "metadata": {},
   "source": [
    "### ค่าเฉลี่ย"
   ]
  },
  {
   "cell_type": "code",
   "execution_count": null,
   "id": "8773d771",
   "metadata": {},
   "outputs": [],
   "source": [
    "ds.mean()"
   ]
  },
  {
   "cell_type": "markdown",
   "id": "5c120c0e",
   "metadata": {},
   "source": [
    "### ค่าสูงสุด / ค่าต่ำสุด"
   ]
  },
  {
   "cell_type": "code",
   "execution_count": null,
   "id": "ed933f6b",
   "metadata": {},
   "outputs": [],
   "source": [
    "ds.max()"
   ]
  },
  {
   "cell_type": "code",
   "execution_count": null,
   "id": "035a78e0",
   "metadata": {},
   "outputs": [],
   "source": [
    "ds.min()"
   ]
  },
  {
   "cell_type": "markdown",
   "id": "3f0ff127",
   "metadata": {},
   "source": [
    "### ค่าส่วนเบี่ยงเบนมาตรฐาน"
   ]
  },
  {
   "cell_type": "code",
   "execution_count": null,
   "id": "055413dc",
   "metadata": {},
   "outputs": [],
   "source": [
    "ds.std()"
   ]
  },
  {
   "cell_type": "markdown",
   "id": "8f103b55",
   "metadata": {},
   "source": [
    "### ค่ามัธยฐาน"
   ]
  },
  {
   "cell_type": "code",
   "execution_count": null,
   "id": "bd07f9bf",
   "metadata": {},
   "outputs": [],
   "source": [
    "ds.median()"
   ]
  },
  {
   "cell_type": "code",
   "execution_count": null,
   "id": "58157177",
   "metadata": {},
   "outputs": [],
   "source": [
    "ds.sort_values().values"
   ]
  },
  {
   "cell_type": "markdown",
   "id": "5aae2243",
   "metadata": {},
   "source": [
    "### ค่าฐานนิยม"
   ]
  },
  {
   "cell_type": "code",
   "execution_count": null,
   "id": "2f3fe0d4",
   "metadata": {},
   "outputs": [],
   "source": [
    "ds.mode()"
   ]
  },
  {
   "cell_type": "markdown",
   "id": "dc00217a",
   "metadata": {},
   "source": [
    "### ควอไทล์ (Quartile)"
   ]
  },
  {
   "cell_type": "code",
   "execution_count": null,
   "id": "39b94fb0",
   "metadata": {},
   "outputs": [],
   "source": [
    "ds.quantile([0.25, 0.5, 0.75])"
   ]
  },
  {
   "cell_type": "code",
   "execution_count": null,
   "id": "2cc25a39",
   "metadata": {},
   "outputs": [],
   "source": [
    "ds.quantile([0.1,0.2, 0.5, 0.7, 0.8]) #เดไซล์ (Decile)"
   ]
  },
  {
   "cell_type": "code",
   "execution_count": null,
   "id": "507ee01b",
   "metadata": {},
   "outputs": [],
   "source": [
    "ds.quantile([0.05, 0.1, 0.15, 0.2, 0.25]) #เปอร์เซ็นไทล์ (Percentile)"
   ]
  },
  {
   "cell_type": "markdown",
   "id": "83b66ddb",
   "metadata": {},
   "source": [
    "### ค่าสถิติเชิงพรรณนา (Descriptive Statistics)"
   ]
  },
  {
   "cell_type": "code",
   "execution_count": null,
   "id": "5156fa9e",
   "metadata": {
    "scrolled": true
   },
   "outputs": [],
   "source": [
    "ds.describe()"
   ]
  },
  {
   "cell_type": "markdown",
   "id": "ddadd717",
   "metadata": {},
   "source": [
    "### การแจกแจงความถี่"
   ]
  },
  {
   "cell_type": "code",
   "execution_count": null,
   "id": "80ef45b4",
   "metadata": {},
   "outputs": [],
   "source": [
    "sex = ['M', 'F', 'M', 'F', 'M', 'M' , 'M', 'F']\n",
    "sex_num = [1, 2, 1, 2, 1, 1, 1, 2]\n",
    "\n",
    "ds_sex = pd.Series(sex_num)\n",
    "\n",
    "print(ds_sex.value_counts())\n",
    "print('Total ', ds_sex.count())"
   ]
  },
  {
   "cell_type": "code",
   "execution_count": null,
   "id": "8b688f74",
   "metadata": {},
   "outputs": [],
   "source": [
    "ds_sex.dtypes"
   ]
  },
  {
   "cell_type": "code",
   "execution_count": null,
   "id": "9de7a528",
   "metadata": {},
   "outputs": [],
   "source": [
    "%matplotlib inline\n",
    "\n",
    "ds_sex.value_counts().plot.bar(grid=True)"
   ]
  },
  {
   "cell_type": "markdown",
   "id": "74faa58c",
   "metadata": {},
   "source": [
    "# 2. ค่าทางสถิติจากไฟล์"
   ]
  },
  {
   "cell_type": "code",
   "execution_count": null,
   "id": "2cca4a37",
   "metadata": {},
   "outputs": [],
   "source": [
    "path_excel = 'lab3.xlsx'\n",
    "df = pd.read_excel(path_excel)"
   ]
  },
  {
   "cell_type": "code",
   "execution_count": null,
   "id": "0e499f42",
   "metadata": {},
   "outputs": [],
   "source": [
    "df.head()"
   ]
  },
  {
   "cell_type": "markdown",
   "id": "296094ef",
   "metadata": {},
   "source": [
    "### ค่าเฉลี่ย"
   ]
  },
  {
   "cell_type": "code",
   "execution_count": null,
   "id": "76e6787f",
   "metadata": {
    "scrolled": true
   },
   "outputs": [],
   "source": [
    "df.mean()"
   ]
  },
  {
   "cell_type": "code",
   "execution_count": null,
   "id": "7e2ac36c",
   "metadata": {},
   "outputs": [],
   "source": [
    "df.dtypes"
   ]
  },
  {
   "cell_type": "code",
   "execution_count": null,
   "id": "fc03833b",
   "metadata": {
    "scrolled": true
   },
   "outputs": [],
   "source": [
    "df.mean(numeric_only=True)"
   ]
  },
  {
   "cell_type": "code",
   "execution_count": null,
   "id": "dc00fc2a",
   "metadata": {},
   "outputs": [],
   "source": [
    "df[['Age', 'Buy']].mean()"
   ]
  },
  {
   "cell_type": "markdown",
   "id": "09a84636",
   "metadata": {},
   "source": [
    "### ค่าสูงสุด / ค่าต่ำสุด"
   ]
  },
  {
   "cell_type": "code",
   "execution_count": null,
   "id": "8f3c5246",
   "metadata": {},
   "outputs": [],
   "source": [
    "df.max()"
   ]
  },
  {
   "cell_type": "code",
   "execution_count": null,
   "id": "550fb296",
   "metadata": {},
   "outputs": [],
   "source": [
    "df.max(numeric_only=True)"
   ]
  },
  {
   "cell_type": "code",
   "execution_count": null,
   "id": "2051efb9",
   "metadata": {},
   "outputs": [],
   "source": [
    "df.min()"
   ]
  },
  {
   "cell_type": "markdown",
   "id": "ec127208",
   "metadata": {},
   "source": [
    "### ค่าส่วนเบี่ยงเบนมาตรฐาน"
   ]
  },
  {
   "cell_type": "code",
   "execution_count": null,
   "id": "ba7abe65",
   "metadata": {},
   "outputs": [],
   "source": [
    "df.std(numeric_only=True)"
   ]
  },
  {
   "cell_type": "markdown",
   "id": "3925bccd",
   "metadata": {},
   "source": [
    "### ค่ามัธยฐาน"
   ]
  },
  {
   "cell_type": "code",
   "execution_count": null,
   "id": "9aa00157",
   "metadata": {
    "scrolled": false
   },
   "outputs": [],
   "source": [
    "df.median()"
   ]
  },
  {
   "cell_type": "code",
   "execution_count": null,
   "id": "24fa3a60",
   "metadata": {},
   "outputs": [],
   "source": [
    "df.dtypes"
   ]
  },
  {
   "cell_type": "code",
   "execution_count": null,
   "id": "8371e1c8",
   "metadata": {},
   "outputs": [],
   "source": [
    "df.Buy.median()"
   ]
  },
  {
   "cell_type": "code",
   "execution_count": null,
   "id": "8b310b25",
   "metadata": {},
   "outputs": [],
   "source": [
    "df.Buy.sort_values().values"
   ]
  },
  {
   "cell_type": "code",
   "execution_count": null,
   "id": "c3d1fcec",
   "metadata": {},
   "outputs": [],
   "source": [
    "df.Sex = df.Sex.astype('category')"
   ]
  },
  {
   "cell_type": "code",
   "execution_count": null,
   "id": "25b1e0bf",
   "metadata": {},
   "outputs": [],
   "source": [
    "df.dtypes"
   ]
  },
  {
   "cell_type": "code",
   "execution_count": null,
   "id": "5a876a53",
   "metadata": {},
   "outputs": [],
   "source": [
    "df.median(numeric_only=True)"
   ]
  },
  {
   "cell_type": "markdown",
   "id": "8f20246a",
   "metadata": {},
   "source": [
    "### ค่าฐานนิยม"
   ]
  },
  {
   "cell_type": "code",
   "execution_count": null,
   "id": "44986b63",
   "metadata": {},
   "outputs": [],
   "source": [
    "df.mode()"
   ]
  },
  {
   "cell_type": "code",
   "execution_count": null,
   "id": "59d541bf",
   "metadata": {},
   "outputs": [],
   "source": [
    "df.Age.mode()"
   ]
  },
  {
   "cell_type": "markdown",
   "id": "3603a097",
   "metadata": {},
   "source": [
    "### ควอไทล์ (Quartile)"
   ]
  },
  {
   "cell_type": "code",
   "execution_count": null,
   "id": "d6cf88cf",
   "metadata": {},
   "outputs": [],
   "source": [
    "df.quantile([0.25, 0.5, 0.75])"
   ]
  },
  {
   "cell_type": "markdown",
   "id": "298b1c27",
   "metadata": {},
   "source": [
    "### ค่าสถิติเชิงพรรณนา (Descriptive Statistics)"
   ]
  },
  {
   "cell_type": "code",
   "execution_count": null,
   "id": "9cc17c59",
   "metadata": {},
   "outputs": [],
   "source": [
    "df.describe()"
   ]
  },
  {
   "cell_type": "markdown",
   "id": "33444dac",
   "metadata": {},
   "source": [
    "### การแจกแจงความถี่"
   ]
  },
  {
   "cell_type": "code",
   "execution_count": null,
   "id": "07be611b",
   "metadata": {
    "scrolled": true
   },
   "outputs": [],
   "source": [
    "path_excel = 'lab3.xlsx'\n",
    "df = pd.read_excel(path_excel)"
   ]
  },
  {
   "cell_type": "code",
   "execution_count": null,
   "id": "bd3c75a8",
   "metadata": {},
   "outputs": [],
   "source": [
    "df.head()"
   ]
  },
  {
   "cell_type": "code",
   "execution_count": null,
   "id": "6e6f20e4",
   "metadata": {},
   "outputs": [],
   "source": [
    "df.Sex.value_counts()"
   ]
  },
  {
   "cell_type": "code",
   "execution_count": null,
   "id": "723200b4",
   "metadata": {},
   "outputs": [],
   "source": [
    "df.Gender.value_counts()"
   ]
  },
  {
   "cell_type": "code",
   "execution_count": null,
   "id": "b1303991",
   "metadata": {
    "scrolled": true
   },
   "outputs": [],
   "source": [
    "df.hist()"
   ]
  },
  {
   "cell_type": "code",
   "execution_count": null,
   "id": "bda597b2",
   "metadata": {},
   "outputs": [],
   "source": [
    "%matplotlib inline\n",
    "\n",
    "df.Name.value_counts().plot.bar(grid=True)"
   ]
  },
  {
   "cell_type": "markdown",
   "id": "ee10d877",
   "metadata": {},
   "source": [
    "# 3. จงนำคำสั่งสำหรับการคำนวณค่าทางสถิติทั้งหมดในวันนี้ มาจัดการกับไฟล์ quiz_lab3.xlsx โดยให้เขียนโปรแกรม และแสดงผลลัพธ์\n",
    "### 3.1 หาค่าเฉลี่ย ค่าสูงสุด ค่าต่ำสุด ส่วนเบี่ยงเบนมาตรฐาน มัธยฐาน ฐานนิยม ของยอดขาย (sales)\n",
    "### 3.2 หาค่าฐานนิยม ของ Quarter\n",
    "### 3.3 แสดงค่าสถิติเชิงพรรณนา (Descriptive Statistics)\n",
    "### 3.4 แสดงกราฟ การแจกแจงความถี่ ของ Sales และ Quarter \n",
    "### 3.5 แสดงเฉพาะกราฟของ Country\n",
    "**แก้ชื่อภาษาอังไทยเป็นภาษาอังกฤษด้วยคำสั่ง replace ด้วยก่อนการแสดงกราฟ**"
   ]
  },
  {
   "cell_type": "code",
   "execution_count": null,
   "id": "de2d062b",
   "metadata": {},
   "outputs": [],
   "source": [
    "path_excel = 'quiz_lab3.xlsx'\n",
    "df = pd.read_excel(path_excel,header=2,usecols='b:e')\n",
    "df\n",
    "#ตัวอย่างการอ่านไฟล์"
   ]
  },
  {
   "cell_type": "code",
   "execution_count": null,
   "id": "28287a9b",
   "metadata": {},
   "outputs": [],
   "source": [
    "df.Employee.replace('ณิแนน','Ninan') #ตัวอย่างการแทนที่"
   ]
  },
  {
   "cell_type": "code",
   "execution_count": null,
   "id": "594ed4d0",
   "metadata": {},
   "outputs": [],
   "source": []
  }
 ],
 "metadata": {
  "kernelspec": {
   "display_name": "Python 3",
   "language": "python",
   "name": "python3"
  },
  "language_info": {
   "codemirror_mode": {
    "name": "ipython",
    "version": 3
   },
   "file_extension": ".py",
   "mimetype": "text/x-python",
   "name": "python",
   "nbconvert_exporter": "python",
   "pygments_lexer": "ipython3",
   "version": "3.8.8"
  }
 },
 "nbformat": 4,
 "nbformat_minor": 5
}
